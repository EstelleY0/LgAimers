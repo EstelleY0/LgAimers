{
 "cells": [
  {
   "cell_type": "code",
   "outputs": [
    {
     "name": "stdout",
     "output_type": "stream",
     "text": [
      "Requirement already satisfied: xgboost in /Library/Frameworks/Python.framework/Versions/3.10/lib/python3.10/site-packages (2.0.3)\r\n",
      "Requirement already satisfied: numpy in /Library/Frameworks/Python.framework/Versions/3.10/lib/python3.10/site-packages (from xgboost) (1.24.3)\r\n",
      "Requirement already satisfied: scipy in /Library/Frameworks/Python.framework/Versions/3.10/lib/python3.10/site-packages (from xgboost) (1.10.1)\r\n",
      "Requirement already satisfied: imbalanced-learn in /Library/Frameworks/Python.framework/Versions/3.10/lib/python3.10/site-packages (0.12.0)\r\n",
      "Requirement already satisfied: numpy>=1.17.3 in /Library/Frameworks/Python.framework/Versions/3.10/lib/python3.10/site-packages (from imbalanced-learn) (1.24.3)\r\n",
      "Requirement already satisfied: scipy>=1.5.0 in /Library/Frameworks/Python.framework/Versions/3.10/lib/python3.10/site-packages (from imbalanced-learn) (1.10.1)\r\n",
      "Requirement already satisfied: scikit-learn>=1.0.2 in /Library/Frameworks/Python.framework/Versions/3.10/lib/python3.10/site-packages (from imbalanced-learn) (1.2.2)\r\n",
      "Requirement already satisfied: joblib>=1.1.1 in /Library/Frameworks/Python.framework/Versions/3.10/lib/python3.10/site-packages (from imbalanced-learn) (1.2.0)\r\n",
      "Requirement already satisfied: threadpoolctl>=2.0.0 in /Library/Frameworks/Python.framework/Versions/3.10/lib/python3.10/site-packages (from imbalanced-learn) (3.1.0)\r\n",
      "Requirement already satisfied: xgboost in /Library/Frameworks/Python.framework/Versions/3.10/lib/python3.10/site-packages (2.0.3)\r\n",
      "Requirement already satisfied: numpy in /Library/Frameworks/Python.framework/Versions/3.10/lib/python3.10/site-packages (from xgboost) (1.24.3)\r\n",
      "Requirement already satisfied: scipy in /Library/Frameworks/Python.framework/Versions/3.10/lib/python3.10/site-packages (from xgboost) (1.10.1)\r\n",
      "Requirement already satisfied: catboost in /Library/Frameworks/Python.framework/Versions/3.10/lib/python3.10/site-packages (1.2.2)\r\n",
      "Requirement already satisfied: graphviz in /Library/Frameworks/Python.framework/Versions/3.10/lib/python3.10/site-packages (from catboost) (0.20.1)\r\n",
      "Requirement already satisfied: matplotlib in /Library/Frameworks/Python.framework/Versions/3.10/lib/python3.10/site-packages (from catboost) (3.6.0)\r\n",
      "Requirement already satisfied: numpy>=1.16.0 in /Library/Frameworks/Python.framework/Versions/3.10/lib/python3.10/site-packages (from catboost) (1.24.3)\r\n",
      "Requirement already satisfied: pandas>=0.24 in /Library/Frameworks/Python.framework/Versions/3.10/lib/python3.10/site-packages (from catboost) (1.5.3)\r\n",
      "Requirement already satisfied: scipy in /Library/Frameworks/Python.framework/Versions/3.10/lib/python3.10/site-packages (from catboost) (1.10.1)\r\n",
      "Requirement already satisfied: plotly in /Library/Frameworks/Python.framework/Versions/3.10/lib/python3.10/site-packages (from catboost) (5.18.0)\r\n",
      "Requirement already satisfied: six in /Library/Frameworks/Python.framework/Versions/3.10/lib/python3.10/site-packages (from catboost) (1.16.0)\r\n",
      "Requirement already satisfied: python-dateutil>=2.8.1 in /Library/Frameworks/Python.framework/Versions/3.10/lib/python3.10/site-packages (from pandas>=0.24->catboost) (2.8.2)\r\n",
      "Requirement already satisfied: pytz>=2020.1 in /Library/Frameworks/Python.framework/Versions/3.10/lib/python3.10/site-packages (from pandas>=0.24->catboost) (2023.3)\r\n",
      "Requirement already satisfied: contourpy>=1.0.1 in /Library/Frameworks/Python.framework/Versions/3.10/lib/python3.10/site-packages (from matplotlib->catboost) (1.0.7)\r\n",
      "Requirement already satisfied: cycler>=0.10 in /Library/Frameworks/Python.framework/Versions/3.10/lib/python3.10/site-packages (from matplotlib->catboost) (0.11.0)\r\n",
      "Requirement already satisfied: fonttools>=4.22.0 in /Library/Frameworks/Python.framework/Versions/3.10/lib/python3.10/site-packages (from matplotlib->catboost) (4.39.3)\r\n",
      "Requirement already satisfied: kiwisolver>=1.0.1 in /Library/Frameworks/Python.framework/Versions/3.10/lib/python3.10/site-packages (from matplotlib->catboost) (1.4.4)\r\n",
      "Requirement already satisfied: packaging>=20.0 in /Library/Frameworks/Python.framework/Versions/3.10/lib/python3.10/site-packages (from matplotlib->catboost) (23.1)\r\n",
      "Requirement already satisfied: pillow>=6.2.0 in /Library/Frameworks/Python.framework/Versions/3.10/lib/python3.10/site-packages (from matplotlib->catboost) (9.5.0)\r\n",
      "Requirement already satisfied: pyparsing>=2.2.1 in /Library/Frameworks/Python.framework/Versions/3.10/lib/python3.10/site-packages (from matplotlib->catboost) (3.0.9)\r\n",
      "Requirement already satisfied: tenacity>=6.2.0 in /Library/Frameworks/Python.framework/Versions/3.10/lib/python3.10/site-packages (from plotly->catboost) (8.2.3)\r\n",
      "Requirement already satisfied: category_encoders in /Library/Frameworks/Python.framework/Versions/3.10/lib/python3.10/site-packages (2.6.3)\r\n",
      "Requirement already satisfied: numpy>=1.14.0 in /Library/Frameworks/Python.framework/Versions/3.10/lib/python3.10/site-packages (from category_encoders) (1.24.3)\r\n",
      "Requirement already satisfied: scikit-learn>=0.20.0 in /Library/Frameworks/Python.framework/Versions/3.10/lib/python3.10/site-packages (from category_encoders) (1.2.2)\r\n",
      "Requirement already satisfied: scipy>=1.0.0 in /Library/Frameworks/Python.framework/Versions/3.10/lib/python3.10/site-packages (from category_encoders) (1.10.1)\r\n",
      "Requirement already satisfied: statsmodels>=0.9.0 in /Library/Frameworks/Python.framework/Versions/3.10/lib/python3.10/site-packages (from category_encoders) (0.14.1)\r\n",
      "Requirement already satisfied: pandas>=1.0.5 in /Library/Frameworks/Python.framework/Versions/3.10/lib/python3.10/site-packages (from category_encoders) (1.5.3)\r\n",
      "Requirement already satisfied: patsy>=0.5.1 in /Library/Frameworks/Python.framework/Versions/3.10/lib/python3.10/site-packages (from category_encoders) (0.5.6)\r\n",
      "Requirement already satisfied: python-dateutil>=2.8.1 in /Library/Frameworks/Python.framework/Versions/3.10/lib/python3.10/site-packages (from pandas>=1.0.5->category_encoders) (2.8.2)\r\n",
      "Requirement already satisfied: pytz>=2020.1 in /Library/Frameworks/Python.framework/Versions/3.10/lib/python3.10/site-packages (from pandas>=1.0.5->category_encoders) (2023.3)\r\n",
      "Requirement already satisfied: six in /Library/Frameworks/Python.framework/Versions/3.10/lib/python3.10/site-packages (from patsy>=0.5.1->category_encoders) (1.16.0)\r\n",
      "Requirement already satisfied: joblib>=1.1.1 in /Library/Frameworks/Python.framework/Versions/3.10/lib/python3.10/site-packages (from scikit-learn>=0.20.0->category_encoders) (1.2.0)\r\n",
      "Requirement already satisfied: threadpoolctl>=2.0.0 in /Library/Frameworks/Python.framework/Versions/3.10/lib/python3.10/site-packages (from scikit-learn>=0.20.0->category_encoders) (3.1.0)\r\n",
      "Requirement already satisfied: packaging>=21.3 in /Library/Frameworks/Python.framework/Versions/3.10/lib/python3.10/site-packages (from statsmodels>=0.9.0->category_encoders) (23.1)\r\n"
     ]
    }
   ],
   "source": [
    "!pip install xgboost\n",
    "!pip install imbalanced-learn\n",
    "!pip install --upgrade xgboost\n",
    "!pip install catboost\n",
    "!pip install category_encoders\n"
   ],
   "metadata": {
    "collapsed": false,
    "ExecuteTime": {
     "end_time": "2024-02-13T14:42:28.298527Z",
     "start_time": "2024-02-13T14:42:01.453189Z"
    }
   },
   "id": "a65bfd797a167fb0",
   "execution_count": 15
  },
  {
   "cell_type": "code",
   "outputs": [
    {
     "name": "stdout",
     "output_type": "stream",
     "text": [
      "Requirement already satisfied: scikit-build in /Library/Frameworks/Python.framework/Versions/3.10/lib/python3.10/site-packages (0.17.6)\r\n",
      "Requirement already satisfied: setuptools in /Library/Frameworks/Python.framework/Versions/3.10/lib/python3.10/site-packages (69.1.0)\r\n",
      "Requirement already satisfied: distro in /Library/Frameworks/Python.framework/Versions/3.10/lib/python3.10/site-packages (from scikit-build) (1.9.0)\r\n",
      "Requirement already satisfied: packaging in /Library/Frameworks/Python.framework/Versions/3.10/lib/python3.10/site-packages (from scikit-build) (23.1)\r\n",
      "Requirement already satisfied: tomli in /Library/Frameworks/Python.framework/Versions/3.10/lib/python3.10/site-packages (from scikit-build) (2.0.1)\r\n",
      "Requirement already satisfied: wheel>=0.32.0 in /Library/Frameworks/Python.framework/Versions/3.10/lib/python3.10/site-packages (from scikit-build) (0.42.0)\r\n",
      "Requirement already satisfied: pycaret in /Library/Frameworks/Python.framework/Versions/3.10/lib/python3.10/site-packages (3.2.0)\r\n",
      "Requirement already satisfied: category-encoders>=2.4.0 in /Library/Frameworks/Python.framework/Versions/3.10/lib/python3.10/site-packages (from pycaret) (2.6.3)\r\n",
      "Requirement already satisfied: cloudpickle in /Library/Frameworks/Python.framework/Versions/3.10/lib/python3.10/site-packages (from pycaret) (3.0.0)\r\n",
      "Requirement already satisfied: deprecation>=2.1.0 in /Library/Frameworks/Python.framework/Versions/3.10/lib/python3.10/site-packages (from pycaret) (2.1.0)\r\n",
      "Requirement already satisfied: imbalanced-learn>=0.8.1 in /Library/Frameworks/Python.framework/Versions/3.10/lib/python3.10/site-packages (from pycaret) (0.12.0)\r\n",
      "Requirement already satisfied: importlib-metadata>=4.12.0 in /Library/Frameworks/Python.framework/Versions/3.10/lib/python3.10/site-packages (from pycaret) (7.0.1)\r\n",
      "Requirement already satisfied: ipython>=5.5.0 in /Library/Frameworks/Python.framework/Versions/3.10/lib/python3.10/site-packages (from pycaret) (8.21.0)\r\n",
      "Requirement already satisfied: ipywidgets>=7.6.5 in /Library/Frameworks/Python.framework/Versions/3.10/lib/python3.10/site-packages (from pycaret) (8.1.1)\r\n",
      "Requirement already satisfied: jinja2>=1.2 in /Library/Frameworks/Python.framework/Versions/3.10/lib/python3.10/site-packages (from pycaret) (3.1.3)\r\n",
      "Requirement already satisfied: joblib>=1.2.0 in /Library/Frameworks/Python.framework/Versions/3.10/lib/python3.10/site-packages (from pycaret) (1.2.0)\r\n",
      "Requirement already satisfied: kaleido>=0.2.1 in /Library/Frameworks/Python.framework/Versions/3.10/lib/python3.10/site-packages (from pycaret) (0.2.1)\r\n",
      "Requirement already satisfied: lightgbm>=3.0.0 in /Library/Frameworks/Python.framework/Versions/3.10/lib/python3.10/site-packages (from pycaret) (4.3.0)\r\n",
      "Requirement already satisfied: markupsafe>=2.0.1 in /Library/Frameworks/Python.framework/Versions/3.10/lib/python3.10/site-packages (from pycaret) (2.1.5)\r\n",
      "Requirement already satisfied: matplotlib<=3.6,>=3.3.0 in /Library/Frameworks/Python.framework/Versions/3.10/lib/python3.10/site-packages (from pycaret) (3.6.0)\r\n",
      "Requirement already satisfied: nbformat>=4.2.0 in /Library/Frameworks/Python.framework/Versions/3.10/lib/python3.10/site-packages (from pycaret) (5.9.2)\r\n",
      "Requirement already satisfied: numba>=0.55.0 in /Library/Frameworks/Python.framework/Versions/3.10/lib/python3.10/site-packages (from pycaret) (0.59.0)\r\n",
      "Requirement already satisfied: numpy<1.27,>=1.21 in /Library/Frameworks/Python.framework/Versions/3.10/lib/python3.10/site-packages (from pycaret) (1.24.3)\r\n",
      "Requirement already satisfied: pandas<2.0.0,>=1.3.0 in /Library/Frameworks/Python.framework/Versions/3.10/lib/python3.10/site-packages (from pycaret) (1.5.3)\r\n",
      "Requirement already satisfied: plotly-resampler>=0.8.3.1 in /Library/Frameworks/Python.framework/Versions/3.10/lib/python3.10/site-packages (from pycaret) (0.9.2)\r\n",
      "Requirement already satisfied: plotly>=5.0.0 in /Library/Frameworks/Python.framework/Versions/3.10/lib/python3.10/site-packages (from pycaret) (5.18.0)\r\n",
      "Requirement already satisfied: pmdarima!=1.8.1,<3.0.0,>=1.8.0 in /Library/Frameworks/Python.framework/Versions/3.10/lib/python3.10/site-packages (from pycaret) (2.0.4)\r\n",
      "Requirement already satisfied: psutil>=5.9.0 in /Library/Frameworks/Python.framework/Versions/3.10/lib/python3.10/site-packages (from pycaret) (5.9.8)\r\n",
      "Requirement already satisfied: pyod>=1.0.8 in /Library/Frameworks/Python.framework/Versions/3.10/lib/python3.10/site-packages (from pycaret) (1.1.3)\r\n",
      "Requirement already satisfied: requests>=2.27.1 in /Library/Frameworks/Python.framework/Versions/3.10/lib/python3.10/site-packages (from pycaret) (2.31.0)\r\n",
      "Requirement already satisfied: schemdraw==0.15 in /Library/Frameworks/Python.framework/Versions/3.10/lib/python3.10/site-packages (from pycaret) (0.15)\r\n",
      "Requirement already satisfied: scikit-learn<1.3.0,>=1.0 in /Library/Frameworks/Python.framework/Versions/3.10/lib/python3.10/site-packages (from pycaret) (1.2.2)\r\n",
      "Requirement already satisfied: scikit-plot>=0.3.7 in /Library/Frameworks/Python.framework/Versions/3.10/lib/python3.10/site-packages (from pycaret) (0.3.7)\r\n",
      "Requirement already satisfied: scipy~=1.10.1 in /Library/Frameworks/Python.framework/Versions/3.10/lib/python3.10/site-packages (from pycaret) (1.10.1)\r\n",
      "Requirement already satisfied: sktime!=0.17.1,!=0.17.2,!=0.18.0,<0.22.0,>=0.16.1 in /Library/Frameworks/Python.framework/Versions/3.10/lib/python3.10/site-packages (from pycaret) (0.21.1)\r\n",
      "Requirement already satisfied: statsmodels>=0.12.1 in /Library/Frameworks/Python.framework/Versions/3.10/lib/python3.10/site-packages (from pycaret) (0.14.1)\r\n",
      "Requirement already satisfied: tbats>=1.1.3 in /Library/Frameworks/Python.framework/Versions/3.10/lib/python3.10/site-packages (from pycaret) (1.1.3)\r\n",
      "Requirement already satisfied: tqdm>=4.62.0 in /Library/Frameworks/Python.framework/Versions/3.10/lib/python3.10/site-packages (from pycaret) (4.66.2)\r\n",
      "Requirement already satisfied: xxhash in /Library/Frameworks/Python.framework/Versions/3.10/lib/python3.10/site-packages (from pycaret) (3.4.1)\r\n",
      "Requirement already satisfied: yellowbrick>=1.4 in /Library/Frameworks/Python.framework/Versions/3.10/lib/python3.10/site-packages (from pycaret) (1.5)\r\n",
      "Requirement already satisfied: wurlitzer in /Library/Frameworks/Python.framework/Versions/3.10/lib/python3.10/site-packages (from pycaret) (3.0.3)\r\n",
      "Requirement already satisfied: patsy>=0.5.1 in /Library/Frameworks/Python.framework/Versions/3.10/lib/python3.10/site-packages (from category-encoders>=2.4.0->pycaret) (0.5.6)\r\n",
      "Requirement already satisfied: packaging in /Library/Frameworks/Python.framework/Versions/3.10/lib/python3.10/site-packages (from deprecation>=2.1.0->pycaret) (23.1)\r\n",
      "Requirement already satisfied: threadpoolctl>=2.0.0 in /Library/Frameworks/Python.framework/Versions/3.10/lib/python3.10/site-packages (from imbalanced-learn>=0.8.1->pycaret) (3.1.0)\r\n",
      "Requirement already satisfied: zipp>=0.5 in /Library/Frameworks/Python.framework/Versions/3.10/lib/python3.10/site-packages (from importlib-metadata>=4.12.0->pycaret) (3.17.0)\r\n",
      "Requirement already satisfied: decorator in /Library/Frameworks/Python.framework/Versions/3.10/lib/python3.10/site-packages (from ipython>=5.5.0->pycaret) (5.1.1)\r\n",
      "Requirement already satisfied: jedi>=0.16 in /Library/Frameworks/Python.framework/Versions/3.10/lib/python3.10/site-packages (from ipython>=5.5.0->pycaret) (0.19.1)\r\n",
      "Requirement already satisfied: matplotlib-inline in /Library/Frameworks/Python.framework/Versions/3.10/lib/python3.10/site-packages (from ipython>=5.5.0->pycaret) (0.1.6)\r\n",
      "Requirement already satisfied: prompt-toolkit<3.1.0,>=3.0.41 in /Library/Frameworks/Python.framework/Versions/3.10/lib/python3.10/site-packages (from ipython>=5.5.0->pycaret) (3.0.43)\r\n",
      "Requirement already satisfied: pygments>=2.4.0 in /Library/Frameworks/Python.framework/Versions/3.10/lib/python3.10/site-packages (from ipython>=5.5.0->pycaret) (2.17.2)\r\n",
      "Requirement already satisfied: stack-data in /Library/Frameworks/Python.framework/Versions/3.10/lib/python3.10/site-packages (from ipython>=5.5.0->pycaret) (0.6.3)\r\n",
      "Requirement already satisfied: traitlets>=5 in /Library/Frameworks/Python.framework/Versions/3.10/lib/python3.10/site-packages (from ipython>=5.5.0->pycaret) (5.14.1)\r\n",
      "Requirement already satisfied: exceptiongroup in /Library/Frameworks/Python.framework/Versions/3.10/lib/python3.10/site-packages (from ipython>=5.5.0->pycaret) (1.2.0)\r\n",
      "Requirement already satisfied: pexpect>4.3 in /Library/Frameworks/Python.framework/Versions/3.10/lib/python3.10/site-packages (from ipython>=5.5.0->pycaret) (4.9.0)\r\n",
      "Requirement already satisfied: comm>=0.1.3 in /Library/Frameworks/Python.framework/Versions/3.10/lib/python3.10/site-packages (from ipywidgets>=7.6.5->pycaret) (0.2.1)\r\n",
      "Requirement already satisfied: widgetsnbextension~=4.0.9 in /Library/Frameworks/Python.framework/Versions/3.10/lib/python3.10/site-packages (from ipywidgets>=7.6.5->pycaret) (4.0.9)\r\n",
      "Requirement already satisfied: jupyterlab-widgets~=3.0.9 in /Library/Frameworks/Python.framework/Versions/3.10/lib/python3.10/site-packages (from ipywidgets>=7.6.5->pycaret) (3.0.9)\r\n",
      "Requirement already satisfied: contourpy>=1.0.1 in /Library/Frameworks/Python.framework/Versions/3.10/lib/python3.10/site-packages (from matplotlib<=3.6,>=3.3.0->pycaret) (1.0.7)\r\n",
      "Requirement already satisfied: cycler>=0.10 in /Library/Frameworks/Python.framework/Versions/3.10/lib/python3.10/site-packages (from matplotlib<=3.6,>=3.3.0->pycaret) (0.11.0)\r\n",
      "Requirement already satisfied: fonttools>=4.22.0 in /Library/Frameworks/Python.framework/Versions/3.10/lib/python3.10/site-packages (from matplotlib<=3.6,>=3.3.0->pycaret) (4.39.3)\r\n",
      "Requirement already satisfied: kiwisolver>=1.0.1 in /Library/Frameworks/Python.framework/Versions/3.10/lib/python3.10/site-packages (from matplotlib<=3.6,>=3.3.0->pycaret) (1.4.4)\r\n",
      "Requirement already satisfied: pillow>=6.2.0 in /Library/Frameworks/Python.framework/Versions/3.10/lib/python3.10/site-packages (from matplotlib<=3.6,>=3.3.0->pycaret) (9.5.0)\r\n",
      "Requirement already satisfied: pyparsing>=2.2.1 in /Library/Frameworks/Python.framework/Versions/3.10/lib/python3.10/site-packages (from matplotlib<=3.6,>=3.3.0->pycaret) (3.0.9)\r\n",
      "Requirement already satisfied: python-dateutil>=2.7 in /Library/Frameworks/Python.framework/Versions/3.10/lib/python3.10/site-packages (from matplotlib<=3.6,>=3.3.0->pycaret) (2.8.2)\r\n",
      "Requirement already satisfied: fastjsonschema in /Library/Frameworks/Python.framework/Versions/3.10/lib/python3.10/site-packages (from nbformat>=4.2.0->pycaret) (2.19.1)\r\n",
      "Requirement already satisfied: jsonschema>=2.6 in /Library/Frameworks/Python.framework/Versions/3.10/lib/python3.10/site-packages (from nbformat>=4.2.0->pycaret) (4.21.1)\r\n",
      "Requirement already satisfied: jupyter-core in /Library/Frameworks/Python.framework/Versions/3.10/lib/python3.10/site-packages (from nbformat>=4.2.0->pycaret) (5.7.1)\r\n",
      "Requirement already satisfied: llvmlite<0.43,>=0.42.0dev0 in /Library/Frameworks/Python.framework/Versions/3.10/lib/python3.10/site-packages (from numba>=0.55.0->pycaret) (0.42.0)\r\n",
      "Requirement already satisfied: pytz>=2020.1 in /Library/Frameworks/Python.framework/Versions/3.10/lib/python3.10/site-packages (from pandas<2.0.0,>=1.3.0->pycaret) (2023.3)\r\n",
      "Requirement already satisfied: tenacity>=6.2.0 in /Library/Frameworks/Python.framework/Versions/3.10/lib/python3.10/site-packages (from plotly>=5.0.0->pycaret) (8.2.3)\r\n",
      "Requirement already satisfied: dash>=2.9.0 in /Library/Frameworks/Python.framework/Versions/3.10/lib/python3.10/site-packages (from plotly-resampler>=0.8.3.1->pycaret) (2.15.0)\r\n",
      "Requirement already satisfied: orjson<4.0.0,>=3.8.0 in /Library/Frameworks/Python.framework/Versions/3.10/lib/python3.10/site-packages (from plotly-resampler>=0.8.3.1->pycaret) (3.9.13)\r\n",
      "Requirement already satisfied: tsdownsample==0.1.2 in /Library/Frameworks/Python.framework/Versions/3.10/lib/python3.10/site-packages (from plotly-resampler>=0.8.3.1->pycaret) (0.1.2)\r\n",
      "Requirement already satisfied: Cython!=0.29.18,!=0.29.31,>=0.29 in /Library/Frameworks/Python.framework/Versions/3.10/lib/python3.10/site-packages (from pmdarima!=1.8.1,<3.0.0,>=1.8.0->pycaret) (3.0.8)\r\n",
      "Requirement already satisfied: urllib3 in /Library/Frameworks/Python.framework/Versions/3.10/lib/python3.10/site-packages (from pmdarima!=1.8.1,<3.0.0,>=1.8.0->pycaret) (2.2.0)\r\n",
      "Requirement already satisfied: setuptools!=50.0.0,>=38.6.0 in /Library/Frameworks/Python.framework/Versions/3.10/lib/python3.10/site-packages (from pmdarima!=1.8.1,<3.0.0,>=1.8.0->pycaret) (69.1.0)\r\n",
      "Requirement already satisfied: six in /Library/Frameworks/Python.framework/Versions/3.10/lib/python3.10/site-packages (from pyod>=1.0.8->pycaret) (1.16.0)\r\n",
      "Requirement already satisfied: charset-normalizer<4,>=2 in /Library/Frameworks/Python.framework/Versions/3.10/lib/python3.10/site-packages (from requests>=2.27.1->pycaret) (3.3.2)\r\n",
      "Requirement already satisfied: idna<4,>=2.5 in /Library/Frameworks/Python.framework/Versions/3.10/lib/python3.10/site-packages (from requests>=2.27.1->pycaret) (3.6)\r\n",
      "Requirement already satisfied: certifi>=2017.4.17 in /Library/Frameworks/Python.framework/Versions/3.10/lib/python3.10/site-packages (from requests>=2.27.1->pycaret) (2024.2.2)\r\n",
      "Requirement already satisfied: deprecated>=1.2.13 in /Library/Frameworks/Python.framework/Versions/3.10/lib/python3.10/site-packages (from sktime!=0.17.1,!=0.17.2,!=0.18.0,<0.22.0,>=0.16.1->pycaret) (1.2.14)\r\n",
      "Requirement already satisfied: scikit-base<0.6.0 in /Library/Frameworks/Python.framework/Versions/3.10/lib/python3.10/site-packages (from sktime!=0.17.1,!=0.17.2,!=0.18.0,<0.22.0,>=0.16.1->pycaret) (0.5.2)\r\n",
      "Requirement already satisfied: Flask<3.1,>=1.0.4 in /Library/Frameworks/Python.framework/Versions/3.10/lib/python3.10/site-packages (from dash>=2.9.0->plotly-resampler>=0.8.3.1->pycaret) (3.0.2)\r\n",
      "Requirement already satisfied: Werkzeug<3.1 in /Library/Frameworks/Python.framework/Versions/3.10/lib/python3.10/site-packages (from dash>=2.9.0->plotly-resampler>=0.8.3.1->pycaret) (3.0.1)\r\n",
      "Requirement already satisfied: dash-html-components==2.0.0 in /Library/Frameworks/Python.framework/Versions/3.10/lib/python3.10/site-packages (from dash>=2.9.0->plotly-resampler>=0.8.3.1->pycaret) (2.0.0)\r\n",
      "Requirement already satisfied: dash-core-components==2.0.0 in /Library/Frameworks/Python.framework/Versions/3.10/lib/python3.10/site-packages (from dash>=2.9.0->plotly-resampler>=0.8.3.1->pycaret) (2.0.0)\r\n",
      "Requirement already satisfied: dash-table==5.0.0 in /Library/Frameworks/Python.framework/Versions/3.10/lib/python3.10/site-packages (from dash>=2.9.0->plotly-resampler>=0.8.3.1->pycaret) (5.0.0)\r\n",
      "Requirement already satisfied: typing-extensions>=4.1.1 in /Library/Frameworks/Python.framework/Versions/3.10/lib/python3.10/site-packages (from dash>=2.9.0->plotly-resampler>=0.8.3.1->pycaret) (4.9.0)\r\n",
      "Requirement already satisfied: retrying in /Library/Frameworks/Python.framework/Versions/3.10/lib/python3.10/site-packages (from dash>=2.9.0->plotly-resampler>=0.8.3.1->pycaret) (1.3.4)\r\n",
      "Requirement already satisfied: nest-asyncio in /Library/Frameworks/Python.framework/Versions/3.10/lib/python3.10/site-packages (from dash>=2.9.0->plotly-resampler>=0.8.3.1->pycaret) (1.6.0)\r\n",
      "Requirement already satisfied: wrapt<2,>=1.10 in /Library/Frameworks/Python.framework/Versions/3.10/lib/python3.10/site-packages (from deprecated>=1.2.13->sktime!=0.17.1,!=0.17.2,!=0.18.0,<0.22.0,>=0.16.1->pycaret) (1.14.1)\r\n",
      "Requirement already satisfied: parso<0.9.0,>=0.8.3 in /Library/Frameworks/Python.framework/Versions/3.10/lib/python3.10/site-packages (from jedi>=0.16->ipython>=5.5.0->pycaret) (0.8.3)\r\n",
      "Requirement already satisfied: attrs>=22.2.0 in /Library/Frameworks/Python.framework/Versions/3.10/lib/python3.10/site-packages (from jsonschema>=2.6->nbformat>=4.2.0->pycaret) (23.2.0)\r\n",
      "Requirement already satisfied: jsonschema-specifications>=2023.03.6 in /Library/Frameworks/Python.framework/Versions/3.10/lib/python3.10/site-packages (from jsonschema>=2.6->nbformat>=4.2.0->pycaret) (2023.12.1)\r\n",
      "Requirement already satisfied: referencing>=0.28.4 in /Library/Frameworks/Python.framework/Versions/3.10/lib/python3.10/site-packages (from jsonschema>=2.6->nbformat>=4.2.0->pycaret) (0.33.0)\r\n",
      "Requirement already satisfied: rpds-py>=0.7.1 in /Library/Frameworks/Python.framework/Versions/3.10/lib/python3.10/site-packages (from jsonschema>=2.6->nbformat>=4.2.0->pycaret) (0.17.1)\r\n",
      "Requirement already satisfied: ptyprocess>=0.5 in /Library/Frameworks/Python.framework/Versions/3.10/lib/python3.10/site-packages (from pexpect>4.3->ipython>=5.5.0->pycaret) (0.7.0)\r\n",
      "Requirement already satisfied: wcwidth in /Library/Frameworks/Python.framework/Versions/3.10/lib/python3.10/site-packages (from prompt-toolkit<3.1.0,>=3.0.41->ipython>=5.5.0->pycaret) (0.2.13)\r\n",
      "Requirement already satisfied: platformdirs>=2.5 in /Library/Frameworks/Python.framework/Versions/3.10/lib/python3.10/site-packages (from jupyter-core->nbformat>=4.2.0->pycaret) (4.2.0)\r\n",
      "Requirement already satisfied: executing>=1.2.0 in /Library/Frameworks/Python.framework/Versions/3.10/lib/python3.10/site-packages (from stack-data->ipython>=5.5.0->pycaret) (2.0.1)\r\n",
      "Requirement already satisfied: asttokens>=2.1.0 in /Library/Frameworks/Python.framework/Versions/3.10/lib/python3.10/site-packages (from stack-data->ipython>=5.5.0->pycaret) (2.4.1)\r\n",
      "Requirement already satisfied: pure-eval in /Library/Frameworks/Python.framework/Versions/3.10/lib/python3.10/site-packages (from stack-data->ipython>=5.5.0->pycaret) (0.2.2)\r\n",
      "Requirement already satisfied: itsdangerous>=2.1.2 in /Library/Frameworks/Python.framework/Versions/3.10/lib/python3.10/site-packages (from Flask<3.1,>=1.0.4->dash>=2.9.0->plotly-resampler>=0.8.3.1->pycaret) (2.1.2)\r\n",
      "Requirement already satisfied: click>=8.1.3 in /Library/Frameworks/Python.framework/Versions/3.10/lib/python3.10/site-packages (from Flask<3.1,>=1.0.4->dash>=2.9.0->plotly-resampler>=0.8.3.1->pycaret) (8.1.7)\r\n",
      "Requirement already satisfied: blinker>=1.6.2 in /Library/Frameworks/Python.framework/Versions/3.10/lib/python3.10/site-packages (from Flask<3.1,>=1.0.4->dash>=2.9.0->plotly-resampler>=0.8.3.1->pycaret) (1.7.0)\r\n"
     ]
    }
   ],
   "source": [
    "!pip install --upgrade scikit-build setuptools\n",
    "\n",
    "!pip install pycaret #pycaret 설치\n"
   ],
   "metadata": {
    "collapsed": false,
    "ExecuteTime": {
     "end_time": "2024-02-13T14:42:36.960195Z",
     "start_time": "2024-02-13T14:42:28.180846Z"
    }
   },
   "id": "cb94ea65135b8a9f",
   "execution_count": 16
  },
  {
   "cell_type": "code",
   "outputs": [],
   "source": [
    "import pandas as pd\n",
    "from sklearn.metrics import (\n",
    "    accuracy_score,\n",
    "    confusion_matrix,\n",
    "    f1_score,\n",
    "    precision_score,\n",
    "    recall_score,\n",
    ")\n",
    "from sklearn.model_selection import train_test_split\n",
    "from xgboost import XGBClassifier\n",
    "from sklearn.model_selection import GridSearchCV\n",
    "import numpy as np\n",
    "import catboost\n",
    "from catboost import CatBoostClassifier\n",
    "\n",
    "from sklearn.tree import DecisionTreeClassifier\n",
    "from sklearn.ensemble import RandomForestClassifier\n",
    "from sklearn.svm import SVC\n",
    "from sklearn.impute import SimpleImputer\n",
    "from imblearn.combine import SMOTEENN\n",
    "\n",
    "from sklearn.decomposition import PCA\n",
    "import matplotlib.pyplot as plt\n",
    "from mpl_toolkits.mplot3d import Axes3D\n",
    "\n",
    "df_train = pd.read_csv(\"train.csv\")\n",
    "df_test = pd.read_csv(\"submission.csv\")\n",
    "\n",
    "def label_encoding(series: pd.Series) -> pd.Series:\n",
    "    my_dict = {}\n",
    "    series = series.astype(str)\n",
    "\n",
    "    for idx, value in enumerate(sorted(series.unique())):\n",
    "        my_dict[value] = idx\n",
    "    series = series.map(my_dict)\n",
    "\n",
    "    return series\n",
    "\n",
    "label_columns = [\n",
    "    \"customer_country\",\n",
    "    \"business_subarea\",\n",
    "    \"business_area\",\n",
    "    \"business_unit\",\n",
    "    \"customer_type\",\n",
    "    \"enterprise\",\n",
    "    \"customer_job\",\n",
    "    \"inquiry_type\",\n",
    "    \"product_category\",\n",
    "    \"product_subcategory\",\n",
    "    \"product_modelname\",\n",
    "    \"customer_country.1\",\n",
    "    \"customer_position\",\n",
    "    \"response_corporate\",\n",
    "    \"expected_timeline\",\n",
    "]\n",
    "\n",
    "df_all = pd.concat([df_train[label_columns], df_test[label_columns]])\n",
    "\n",
    "for col in label_columns:\n",
    "    df_all[col] = label_encoding(df_all[col])\n",
    "\n",
    "for col in label_columns:\n",
    "    df_train[col] = df_all.iloc[: len(df_train)][col]\n",
    "    df_test[col] = df_all.iloc[len(df_train) :][col]\n",
    "\n",
    "# Assuming 'it' and 'id' are the columns you want to fill with 0\n",
    "#columns_to_fill = ['id_strategic_ver', 'it_strategic_ver', 'idit_strategic_ver']\n",
    "\n",
    "# Fill NaN values with 0 in the specified columns for both df_train and df_test\n",
    "#df_train.loc[:, columns_to_fill] = df_train.loc[:, columns_to_fill].fillna(0)\n",
    "#df_test.loc[:, columns_to_fill] = df_test.loc[:, columns_to_fill].fillna(0)\n",
    "\n",
    "\n",
    "# Sum of \"id_strategic_ver\", \"it_strategic_ver\", \"idit_strategic_ver\"\n",
    "#df_train[\"sum_strategic_ver\"] = 3 * df_train[\"id_strategic_ver\"] + 2 * df_train[\"it_strategic_ver\"] + df_train[\"idit_strategic_ver\"]\n",
    "#df_test[\"sum_strategic_ver\"] = 3 * df_test[\"id_strategic_ver\"] + 2 * df_test[\"it_strategic_ver\"] + df_test[\"idit_strategic_ver\"]\n",
    "\n",
    "df_train.dropna(axis=1, inplace=True)\n",
    "df_train.drop(['customer_country.1', 'customer_country'], axis=1, inplace=True)\n",
    "\n",
    "df_test.dropna(axis=1, inplace=True)\n",
    "df_test.drop(['customer_country.1', 'customer_country'], axis=1, inplace=True)\n"
   ],
   "metadata": {
    "collapsed": false,
    "ExecuteTime": {
     "end_time": "2024-02-13T14:42:38.348524Z",
     "start_time": "2024-02-13T14:42:36.856594Z"
    }
   },
   "id": "7f80caac994eba6e",
   "execution_count": 17
  },
  {
   "cell_type": "code",
   "outputs": [
    {
     "name": "stdout",
     "output_type": "stream",
     "text": [
      "Train set:\n",
      "False    53483\n",
      "True      3876\n",
      "Name: is_converted, dtype: int64\n",
      "Validation set:\n",
      "True     974\n",
      "False    966\n",
      "Name: is_converted, dtype: int64\n"
     ]
    }
   ],
   "source": [
    "\n",
    "# TRUE와 FALSE 개수 세기\n",
    "true_count = df_train['is_converted'].sum()\n",
    "false_count = len(df_train) - true_count\n",
    "\n",
    "# 두 개수 중 작은 값으로 데이터를 분할\n",
    "min_count = min(true_count, false_count)\n",
    "\n",
    "# TRUE와 FALSE 개수를 맞추어 데이터를 분할\n",
    "true_data = df_train[df_train['is_converted'] == True].sample(n=min_count, random_state=400)\n",
    "false_data = df_train[df_train['is_converted'] == False].sample(n=min_count, random_state=400)\n",
    "\n",
    "# 데이터를 결합\n",
    "df_balanced = pd.concat([true_data, false_data])\n",
    "\n",
    "# val set을 먼저 구성\n",
    "val_size = int(len(df_balanced) * 0.2)  # 전체 데이터의 20%를 val set으로 사용\n",
    "val_set = df_balanced.sample(n=val_size, random_state=400)\n",
    "\n",
    "# val_set을 x_val과 y_val로 분리\n",
    "x_val = val_set.drop(\"is_converted\", axis=1)\n",
    "y_val = val_set[\"is_converted\"]\n",
    "\n",
    "# train set 구성 (비율을 맞추기 전의 데이터 사용)\n",
    "train_set = df_train.drop(val_set.index)\n",
    "\n",
    "# train set과 val set 구성 확인\n",
    "print(\"Train set:\")\n",
    "print(train_set['is_converted'].value_counts())\n",
    "print(\"Validation set:\")\n",
    "print(val_set['is_converted'].value_counts())\n"
   ],
   "metadata": {
    "collapsed": false,
    "ExecuteTime": {
     "end_time": "2024-02-13T14:42:38.354570Z",
     "start_time": "2024-02-13T14:42:38.283700Z"
    }
   },
   "id": "1892071a2c1aa3c5",
   "execution_count": 18
  },
  {
   "cell_type": "code",
   "outputs": [
    {
     "name": "stdout",
     "output_type": "stream",
     "text": [
      "Train set after Tomek Links and balancing classes:\n",
      "False    3876\n",
      "True     3876\n",
      "Name: is_converted, dtype: int64\n"
     ]
    }
   ],
   "source": [
    "\n",
    "from imblearn.under_sampling import TomekLinks, RandomUnderSampler\n",
    "import pandas as pd\n",
    "\n",
    "\n",
    "# Tomek Link를 적용하여 데이터 보정\n",
    "tl = TomekLinks()\n",
    "x_train_resampled, y_train_resampled = tl.fit_resample(train_set.drop(\"is_converted\", axis=1), train_set[\"is_converted\"])\n",
    "\n",
    "# 클래스 비율 맞추기\n",
    "rus = RandomUnderSampler(sampling_strategy={0: int(y_train_resampled.sum() * 1), 1: y_train_resampled.sum()}, random_state=42)\n",
    "x_train, y_train = rus.fit_resample(x_train_resampled, y_train_resampled)\n",
    "\n",
    "# 결과 확인\n",
    "print(\"Train set after Tomek Links and balancing classes:\")\n",
    "print(pd.Series(y_train).value_counts())\n"
   ],
   "metadata": {
    "collapsed": false,
    "ExecuteTime": {
     "end_time": "2024-02-13T14:42:43.557840Z",
     "start_time": "2024-02-13T14:42:38.341626Z"
    }
   },
   "id": "39fc215ef7076c7f",
   "execution_count": 19
  },
  {
   "cell_type": "code",
   "outputs": [
    {
     "name": "stdout",
     "output_type": "stream",
     "text": [
      "0:\tlearn: 0.6243931\ttest: 0.6220990\tbest: 0.6220990 (0)\ttotal: 22.9ms\tremaining: 11.4s\n",
      "100:\tlearn: 0.1366518\ttest: 0.1834555\tbest: 0.1834555 (100)\ttotal: 2.09s\tremaining: 8.26s\n",
      "200:\tlearn: 0.0955829\ttest: 0.1686498\tbest: 0.1686498 (200)\ttotal: 4.13s\tremaining: 6.14s\n",
      "300:\tlearn: 0.0725573\ttest: 0.1607623\tbest: 0.1607623 (300)\ttotal: 6.05s\tremaining: 4s\n",
      "400:\tlearn: 0.0562815\ttest: 0.1577633\tbest: 0.1575123 (366)\ttotal: 7.93s\tremaining: 1.96s\n",
      "499:\tlearn: 0.0448987\ttest: 0.1570372\tbest: 0.1566673 (481)\ttotal: 9.81s\tremaining: 0us\n",
      "\n",
      "bestTest = 0.1566672665\n",
      "bestIteration = 481\n",
      "\n",
      "Shrink model to first 482 iterations.\n"
     ]
    }
   ],
   "source": [
    "model = CatBoostClassifier(iterations=500, depth=10, learning_rate=0.05, loss_function='Logloss', cat_features=[1, 2, 3])\n",
    "\n",
    "model.fit(x_train, y_train, eval_set=(x_val, y_val), early_stopping_rounds=50, verbose=100)\n",
    "\n",
    "\n",
    "#columns_to_drop = [\"it_strategic_ver\"]\n",
    "#df_train.drop(columns=columns_to_drop, inplace=True)\n",
    "\n",
    "\n",
    "\n",
    "# Use \"sum_strategic_ver\" column for training\n",
    "x_train_non_null = x_train.dropna(axis=1)\n",
    "x_val_non_null = x_val[x_train_non_null.columns]\n",
    "x_test_non_null = df_test[x_train_non_null.columns]\n",
    "\n",
    "# Continue with the rest of your code"
   ],
   "metadata": {
    "collapsed": false,
    "ExecuteTime": {
     "end_time": "2024-02-13T14:42:53.549457Z",
     "start_time": "2024-02-13T14:42:43.588057Z"
    }
   },
   "id": "ffef225c6a5c086c",
   "execution_count": 20
  },
  {
   "cell_type": "code",
   "outputs": [
    {
     "name": "stdout",
     "output_type": "stream",
     "text": [
      "Confusion Matrix:\n",
      " [[918  56]\n",
      " [ 72 894]]\n",
      "\n",
      "Accuracy: 0.9340\n",
      "Precision: 0.9273\n",
      "Recall: 0.9425\n",
      "F1: 0.9348\n"
     ]
    }
   ],
   "source": [
    "def get_clf_eval(y_test, y_pred=None):\n",
    "    confusion = confusion_matrix(y_test, y_pred, labels=[True, False])\n",
    "    accuracy = accuracy_score(y_test, y_pred)\n",
    "    precision = precision_score(y_test, y_pred, labels=[True, False])\n",
    "    recall = recall_score(y_test, y_pred)\n",
    "    F1 = f1_score(y_test, y_pred, labels=[True, False])\n",
    "\n",
    "    print(\"Confusion Matrix:\\n\", confusion)\n",
    "    print(\"\\nAccuracy: {:.4f}\".format(accuracy))\n",
    "    print(\"Precision: {:.4f}\".format(precision))\n",
    "    print(\"Recall: {:.4f}\".format(recall))\n",
    "    print(\"F1: {:.4f}\".format(F1))\n",
    "\n",
    "pred = model.predict(x_val_non_null)\n",
    "pred = [label == 'True' for label in pred]\n",
    "\n",
    "get_clf_eval(y_val, pred)"
   ],
   "metadata": {
    "collapsed": false,
    "ExecuteTime": {
     "end_time": "2024-02-13T14:42:53.571650Z",
     "start_time": "2024-02-13T14:42:53.554048Z"
    }
   },
   "id": "f02354b6b3d46bb1",
   "execution_count": 21
  },
  {
   "cell_type": "code",
   "outputs": [],
   "source": [
    "test_pred = model.predict(x_test_non_null)\n",
    "test_pred = [label == 'True' for label in test_pred]\n",
    "\n",
    "sum(test_pred)\n",
    "df_sub = pd.read_csv(\"submission.csv\")\n",
    "df_sub[\"is_converted\"] = test_pred\n",
    "df_sub.to_csv(\"submission.csv\", index=False)\n"
   ],
   "metadata": {
    "collapsed": false,
    "ExecuteTime": {
     "end_time": "2024-02-13T14:42:53.676325Z",
     "start_time": "2024-02-13T14:42:53.585396Z"
    }
   },
   "id": "cabf18470c47d48b",
   "execution_count": 22
  },
  {
   "cell_type": "code",
   "outputs": [],
   "source": [],
   "metadata": {
    "collapsed": false,
    "ExecuteTime": {
     "end_time": "2024-02-13T14:42:53.680938Z",
     "start_time": "2024-02-13T14:42:53.677896Z"
    }
   },
   "id": "6e887064d34bf58d",
   "execution_count": 22
  }
 ],
 "metadata": {
  "kernelspec": {
   "display_name": "Python 3 (ipykernel)",
   "language": "python",
   "name": "python3"
  },
  "language_info": {
   "codemirror_mode": {
    "name": "ipython",
    "version": 3
   },
   "file_extension": ".py",
   "mimetype": "text/x-python",
   "name": "python",
   "nbconvert_exporter": "python",
   "pygments_lexer": "ipython3",
   "version": "3.10.13"
  }
 },
 "nbformat": 4,
 "nbformat_minor": 5
}

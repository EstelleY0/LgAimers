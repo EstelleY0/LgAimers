{
 "cells": [
  {
   "cell_type": "markdown",
   "id": "017e9265",
   "metadata": {},
   "source": [
    "# 영업 성공 여부 분류 경진대회"
   ]
  },
  {
   "cell_type": "markdown",
   "id": "acdab431",
   "metadata": {},
   "source": [
    "## 1. 데이터 확인"
   ]
  },
  {
   "cell_type": "markdown",
   "id": "2b8341e8",
   "metadata": {},
   "source": [
    "### 필수 라이브러리"
   ]
  },
  {
   "cell_type": "code",
   "execution_count": 55,
   "id": "a315cc58",
   "metadata": {
    "ExecuteTime": {
     "end_time": "2024-02-24T14:45:19.245935Z",
     "start_time": "2024-02-24T14:45:19.129517Z"
    }
   },
   "outputs": [],
   "source": [
    "import pandas as pd\n",
    "import numpy as np\n",
    "from sklearn.metrics import (\n",
    "    accuracy_score,\n",
    "    confusion_matrix,\n",
    "    f1_score,\n",
    "    precision_score,\n",
    "    recall_score,\n",
    ")\n",
    "from sklearn.model_selection import train_test_split\n",
    "from sklearn.tree import DecisionTreeClassifier\n",
    "from xgboost import XGBClassifier\n",
    "from sklearn.model_selection import GridSearchCV\n",
    "from sklearn.ensemble import RandomForestClassifier"
   ]
  },
  {
   "cell_type": "markdown",
   "id": "412f98cc",
   "metadata": {},
   "source": [
    "### 데이터 셋 읽어오기"
   ]
  },
  {
   "cell_type": "code",
   "execution_count": 56,
   "id": "4fc5df0c",
   "metadata": {
    "ExecuteTime": {
     "end_time": "2024-02-24T14:45:19.657635Z",
     "start_time": "2024-02-24T14:45:19.241032Z"
    }
   },
   "outputs": [],
   "source": [
    "df_train = pd.read_csv(\"train.csv\") # 학습용 데이터\n",
    "df_test = pd.read_csv(\"submission.csv\") # 테스트 데이터(제출파일의 데이터)"
   ]
  },
  {
   "cell_type": "code",
   "execution_count": 57,
   "id": "0ccd684e",
   "metadata": {
    "ExecuteTime": {
     "end_time": "2024-02-24T14:45:19.929314Z",
     "start_time": "2024-02-24T14:45:19.626420Z"
    }
   },
   "outputs": [
    {
     "name": "stdout",
     "output_type": "stream",
     "text": [
      "Number of duplicate row pairs: 2962\n",
      "Number of unique duplicate row types: 2405\n",
      "Unique duplicate row types:\n",
      "       bant_submit           customer_country business_unit  \\\n",
      "319           1.00  /East London/South Africa            AS   \n",
      "321           1.00  /East London/South Africa            AS   \n",
      "343           1.00        /Medellin /Colombia            AS   \n",
      "1252          1.00        /Brisbane/Australia            ID   \n",
      "1313          1.00                    //Ghana            ID   \n",
      "...            ...                        ...           ...   \n",
      "59133         0.75                   //Mexico            ID   \n",
      "59261         1.00    /rio de janeiro /Brazil            AS   \n",
      "59274         1.00              /Temuco/Chile            AS   \n",
      "59289         0.75       /Dolnośląskie/Poland            AS   \n",
      "59293         1.00            /Sląskie/Poland            AS   \n",
      "\n",
      "       com_reg_ver_win_rate  customer_idx           customer_type  enterprise  \\\n",
      "319                0.040816         30958            End-Customer         SMB   \n",
      "321                0.040816         30958            End Customer         SMB   \n",
      "343                0.003937         39065                     NaN         SMB   \n",
      "1252               0.084337         14526                     NaN  Enterprise   \n",
      "1313               0.075000          4705  Specifier / Influencer         SMB   \n",
      "...                     ...           ...                     ...         ...   \n",
      "59133              0.042254         33676                     NaN         SMB   \n",
      "59261              0.040000         13618   Specifier/ Influencer  Enterprise   \n",
      "59274              0.040000         22100   Specifier/ Influencer  Enterprise   \n",
      "59289                   NaN          6739   Specifier/ Influencer         SMB   \n",
      "59293                   NaN         33747            End Customer         SMB   \n",
      "\n",
      "       historical_existing_cnt  id_strategic_ver  it_strategic_ver  ...  \\\n",
      "319                        NaN               NaN               NaN  ...   \n",
      "321                        NaN               NaN               NaN  ...   \n",
      "343                        0.0               NaN               NaN  ...   \n",
      "1252                       NaN               1.0               NaN  ...   \n",
      "1313                       NaN               1.0               NaN  ...   \n",
      "...                        ...               ...               ...  ...   \n",
      "59133                      NaN               NaN               NaN  ...   \n",
      "59261                      NaN               NaN               NaN  ...   \n",
      "59274                      0.0               NaN               NaN  ...   \n",
      "59289                      NaN               NaN               NaN  ...   \n",
      "59293                      NaN               NaN               NaN  ...   \n",
      "\n",
      "       response_corporate    expected_timeline  ver_cus ver_pro  \\\n",
      "319                 LGESA     more than a year        1       0   \n",
      "321                 LGESA     more than a year        1       0   \n",
      "343                 LGECB    9 months ~ 1 year        0       0   \n",
      "1252                LGEAP   less than 3 months        0       1   \n",
      "1313                LGEAF   less than 3 months        0       1   \n",
      "...                   ...                  ...      ...     ...   \n",
      "59133               LGEMS   less than 3 months        0       0   \n",
      "59261               LGESP     more than a year        0       0   \n",
      "59274               LGECL   less than 3 months        0       0   \n",
      "59289               LGEPL   less than 3 months        0       0   \n",
      "59293               LGEPL  3 months ~ 6 months        0       0   \n",
      "\n",
      "      ver_win_rate_x ver_win_ratio_per_bu       business_area  \\\n",
      "319         0.003079             0.026846  corporate / office   \n",
      "321         0.003079             0.026846  corporate / office   \n",
      "343         0.003079             0.026846  corporate / office   \n",
      "1252        0.003079             0.064566  corporate / office   \n",
      "1313        0.003079             0.064566  corporate / office   \n",
      "...              ...                  ...                 ...   \n",
      "59133       0.000026             0.031579     public facility   \n",
      "59261       0.000026             0.028777     public facility   \n",
      "59274       0.000026             0.028777     public facility   \n",
      "59289       0.000026             0.028777     public facility   \n",
      "59293       0.000026             0.028777     public facility   \n",
      "\n",
      "        business_subarea lead_owner is_converted  \n",
      "319          IT/Software         26        False  \n",
      "321          IT/Software         26        False  \n",
      "343                  NaN         41        False  \n",
      "1252                 NaN        306        False  \n",
      "1313   Telecommunication        170        False  \n",
      "...                  ...        ...          ...  \n",
      "59133                NaN        214         True  \n",
      "59261   Museum / Gallery         97        False  \n",
      "59274             Others        100        False  \n",
      "59289             Others        694        False  \n",
      "59293             Others        694        False  \n",
      "\n",
      "[2405 rows x 29 columns]\n",
      "No duplicate rows found.\n"
     ]
    }
   ],
   "source": [
    "# 중복된 행을 찾음 (모든 열 값이 같은 행)\n",
    "def duplicated(df_train):\n",
    "    duplicate_rows_df = df_train[df_train.duplicated(keep=False)]\n",
    "\n",
    "    # 중복된 행의 개수\n",
    "    duplicate_row_count = duplicate_rows_df.shape[0]\n",
    "\n",
    "    # 중복된 행이 있는 경우, 그 행들의 종류와 개수를 출력\n",
    "    if duplicate_row_count > 0:\n",
    "        # 중복된 행들의 종류와 각각의 개수를 세기\n",
    "        duplicate_row_types = duplicate_rows_df.drop_duplicates()\n",
    "        duplicate_row_types_count = duplicate_row_types.shape[0]\n",
    "\n",
    "        print(f\"Number of duplicate row pairs: {duplicate_row_count // 2}\")\n",
    "        print(f\"Number of unique duplicate row types: {duplicate_row_types_count}\")\n",
    "        print(\"Unique duplicate row types:\")\n",
    "        print(duplicate_row_types)\n",
    "    else:\n",
    "        print(\"No duplicate rows found.\")\n",
    "duplicated(df_train)\n",
    "df_train=df_train.drop_duplicates(keep='first', ignore_index = True)\n",
    "duplicated(df_train)"
   ]
  },
  {
   "cell_type": "code",
   "execution_count": 58,
   "id": "c305561a",
   "metadata": {
    "ExecuteTime": {
     "end_time": "2024-02-24T14:45:19.930863Z",
     "start_time": "2024-02-24T14:45:19.913934Z"
    }
   },
   "outputs": [],
   "source": [
    "category_columns = [\n",
    "    \"customer_country\",\n",
    "    \"business_unit\",\n",
    "    \"customer_idx\",\n",
    "    \"customer_type\",\n",
    "    \"enterprise\",\n",
    "    \"customer_job\",\n",
    "    \"inquiry_type\",\n",
    "    \"business_subarea\",\n",
    "    \"business_area\",\n",
    "    \"product_category\",\n",
    "    \"product_subcategory\",\n",
    "    \"product_modelname\",\n",
    "    \"customer_country.1\",\n",
    "    \"customer_position\",\n",
    "    \"expected_timeline\",\n",
    "    \"response_corporate\",\n",
    "    \"lead_owner\"\n",
    "]\n"
   ]
  },
  {
   "cell_type": "code",
   "outputs": [],
   "source": [
    "#process country\n",
    "df_train[\"customer_country\"] = df_train[\"customer_country\"].str.split('/').str[-1].str.strip()\n",
    "rows_to_remove = df_train[\"customer_country\"].str.contains('[0-9!@#$%^&*(),.?\":{}|<>]', na=False, regex=True)\n",
    "df_train.loc[rows_to_remove, \"customer_country\"] = ''\n",
    "\n",
    "df_test[\"customer_country\"] = df_test[\"customer_country\"].str.split('/').str[-1].str.strip()\n",
    "rows_to_remove = df_test[\"customer_country\"].str.contains('[0-9!@#$%^&*(),.?\":{}|<>]', na=False, regex=True)\n",
    "df_test.loc[rows_to_remove, \"customer_country\"] = ''\n",
    "\n",
    "#process customer job not sure to use this\n",
    "df_train[\"customer_job\"] = df_train[\"customer_job\"].str.split('/').str[0].str.strip()\n",
    "df_test[\"customer_job\"] = df_test[\"customer_job\"].str.split('/').str[0].str.strip()\n",
    "\n",
    "#process category\n",
    "df_train[\"product_category\"] = df_train[\"product_category\"].str.replace('[^a-zA-Z0-9\\s]', '', regex=True)\n",
    "df_test[\"product_category\"] = df_test[\"product_category\"].str.replace('[^a-zA-Z0-9\\s]', '', regex=True)\n",
    "\n",
    "mask = df_train['product_modelname'].isin(df_train['product_category'].unique())\n",
    "df_train.loc[mask, 'product_modelname'] = df_train['product_category']\n",
    "mask = df_test['product_modelname'].isin(df_test['product_category'].unique())\n",
    "df_test.loc[mask, 'product_modelname'] = df_test['product_category']\n",
    "\n",
    "#process modelname\n",
    "df_train[\"product_modelname\"] = df_train[\"product_modelname\"].str.replace(r'\\([^)]*\\)', '', regex=True).str.strip()\n",
    "df_test[\"product_modelname\"] = df_test[\"product_modelname\"].str.replace(r'\\([^)]*\\)', '', regex=True).str.strip()\n",
    "df_train[\"product_modelname\"] = df_train[\"product_modelname\"].str.replace(r'-[^ ]*', '', regex=True).str.strip()\n",
    "df_test[\"product_modelname\"] = df_test[\"product_modelname\"].str.replace(r'-[^ ]*', '', regex=True).str.strip()\n",
    "\n",
    "\n",
    "#process expected timeline\n",
    "df_train[\"expected_timeline\"] = df_train[\"expected_timeline\"].str.replace('_', ' ').str.rstrip('.')\n",
    "df_test[\"expected_timeline\"] = df_test[\"expected_timeline\"].str.replace('_', ' ').str.rstrip('.')\n",
    "df_train[\"expected_timeline\"] = df_train[\"expected_timeline\"].str.split().str[:3].str.join(' ')\n",
    "df_test[\"expected_timeline\"] = df_test[\"expected_timeline\"].str.split().str[:3].str.join(' ')\n",
    "df_train[\"expected_timeline\"] = df_train[\"expected_timeline\"].str.replace(r'[.,/].*', '', regex=True)\n",
    "df_test[\"expected_timeline\"] = df_test[\"expected_timeline\"].str.replace(r'[.,/].*', '', regex=True)\n"
   ],
   "metadata": {
    "collapsed": false,
    "ExecuteTime": {
     "end_time": "2024-02-24T14:45:21.176472Z",
     "start_time": "2024-02-24T14:45:19.936735Z"
    }
   },
   "id": "c380238a2961a58",
   "execution_count": 59
  },
  {
   "cell_type": "markdown",
   "id": "69c10329",
   "metadata": {},
   "source": [
    "#### customer country NLP로 전처리후 모델에 넣으면 학습 어떻게 되는지 확인해야됨\n",
    "#### 카테고리 데이터 숫자로 변환후 원핫 인코딩 진행 및 수치형 데이터 노말라이즈 진행(train기준 maxmin으로 진행)"
   ]
  },
  {
   "cell_type": "markdown",
   "id": "af526c13",
   "metadata": {},
   "source": [
    "## 2. 데이터 전처리"
   ]
  },
  {
   "cell_type": "markdown",
   "id": "4bd47e00",
   "metadata": {},
   "source": [
    "### 레이블 인코딩"
   ]
  },
  {
   "cell_type": "code",
   "execution_count": 60,
   "id": "0b42b1a1",
   "metadata": {
    "ExecuteTime": {
     "end_time": "2024-02-24T14:45:21.179675Z",
     "start_time": "2024-02-24T14:45:21.020390Z"
    }
   },
   "outputs": [],
   "source": [
    "def label_encoding(series: pd.Series) -> pd.Series:\n",
    "    \"\"\"범주형 데이터를 시리즈 형태로 받아 숫자형 데이터로 변환합니다.\"\"\"\n",
    "\n",
    "    my_dict = {}\n",
    "\n",
    "    # 모든 요소를 문자열로 변환\n",
    "    series = series.astype(str)\n",
    "\n",
    "    for idx, value in enumerate(sorted(series.unique())):\n",
    "        my_dict[value] = idx\n",
    "    series = series.map(my_dict)\n",
    "\n",
    "    return series"
   ]
  },
  {
   "cell_type": "code",
   "execution_count": 61,
   "id": "881a4612",
   "metadata": {
    "scrolled": true,
    "ExecuteTime": {
     "end_time": "2024-02-24T14:45:21.240633Z",
     "start_time": "2024-02-24T14:45:21.057128Z"
    }
   },
   "outputs": [],
   "source": [
    "# # 레이블 인코딩할 칼럼들\n",
    "# label_columns = [\n",
    "#     \"customer_country\",\n",
    "#     \"business_subarea\",\n",
    "#     \"business_area\",\n",
    "#     \"business_unit\",\n",
    "#     \"customer_type\",\n",
    "#     \"enterprise\",\n",
    "#     \"customer_job\",\n",
    "#     \"inquiry_type\",\n",
    "#     \"product_category\",\n",
    "#     \"product_subcategory\",\n",
    "#     \"product_modelname\",\n",
    "#     \"customer_country.1\",\n",
    "#     \"customer_position\",\n",
    "#     \"response_corporate\",\n",
    "#     \"expected_timeline\",\n",
    "# ]\n",
    "# category_columns = [\n",
    "#     \"customer_country\",\n",
    "#     \"business_unit\",\n",
    "#     \"customer_idx\",\n",
    "#     \"customer_type\",\n",
    "#     \"enterprise\",\n",
    "#     \"customer_job\",\n",
    "#     \"inquiry_type\",\n",
    "#     \"business_subarea\",\n",
    "#     \"business_area\",\n",
    "#     \"product_category\",\n",
    "#     \"product_subcategory\",\n",
    "#     \"product_modelname\",\n",
    "#     \"customer_country.1\",\n",
    "#     \"customer_position\",\n",
    "#     \"expected_timeline\",\n",
    "#     \"response_corporate\",\n",
    "#     \"lead_owner\"\n",
    "# ]\n",
    "\n",
    "# label_mappings = {}\n",
    "\n",
    "# for col in category_columns:\n",
    "#     if col in df_train.columns:\n",
    "#         # df_train에서의 빈도수 계산 및 5회 미만을 NaN으로 매핑\n",
    "#         value_counts = df_train[col].dropna().value_counts()\n",
    "#         values_to_zero = value_counts[value_counts < 5].index\n",
    "#         df_train.loc[df_train[col].isin(values_to_zero), col] = np.nan\n",
    "\n",
    "#         # 빈도수에 따라 내림차순으로 레이블 할당\n",
    "#         value_counts = df_train[col].dropna().value_counts().sort_values(ascending=False)\n",
    "#         new_labels = {np.nan: 0}\n",
    "        \n",
    "#         # 가장 빈도수가 높은 카테고리가 가장 큰 값을 가지도록 레이블 카운트 설정\n",
    "#         new_label_count = len(value_counts)\n",
    "#         for value in value_counts.index:\n",
    "#             new_labels[value] = new_label_count\n",
    "#             new_label_count -= 1  # 레이블 값을 감소시키며 할당\n",
    "\n",
    "#         # 레이블 매핑 저장\n",
    "#         label_mappings[col] = new_labels\n",
    "\n",
    "#         # df_train에 레이블 매핑 적용\n",
    "#         df_train[col] = df_train[col].map(new_labels)\n",
    "\n",
    "# # df_test에 대한 새로운 카테고리의 빈도수 계산 및 레이블 매핑 적용\n",
    "# for col, mapping in label_mappings.items():\n",
    "#     if col in df_test.columns:\n",
    "#         # df_test에서 각 카테고리의 빈도수 계산\n",
    "#         test_value_counts = df_test[col].value_counts()\n",
    "\n",
    "#         # df_train에서 사용된 최대 레이블 번호 확인\n",
    "#         max_label = max(mapping.values())\n",
    "\n",
    "#         # 새로운 카테고리에 대해 레이블 매핑 적용\n",
    "#         new_mapping = mapping.copy()  # 기존 매핑 복사\n",
    "#         for value, count in test_value_counts.items():\n",
    "#             # 새로운 카테고리이고 5회 이상 나타나는 경우 새로운 레이블 할당\n",
    "#             if value not in new_mapping and count >= 5:\n",
    "#                 print(value)\n",
    "#                 max_label += 1\n",
    "#                 new_mapping[value] = max_label\n",
    "\n",
    "#         # df_test에 새로운 레이블 매핑 적용\n",
    "#         df_test[col] = df_test[col].apply(lambda x: new_mapping.get(x, 0))  # 매핑에 없는 경우 0으로 처리\n"
   ]
  },
  {
   "cell_type": "code",
   "execution_count": 62,
   "id": "6f07eba0",
   "metadata": {
    "ExecuteTime": {
     "end_time": "2024-02-24T14:45:21.832890Z",
     "start_time": "2024-02-24T14:45:21.070296Z"
    }
   },
   "outputs": [],
   "source": [
    "\n",
    "label_columns = [\n",
    "    \"customer_country\",\n",
    "    \"business_subarea\",\n",
    "    \"business_area\",\n",
    "    \"business_unit\",\n",
    "    \"customer_type\",\n",
    "    \"enterprise\",\n",
    "    \"customer_job\",\n",
    "    \"inquiry_type\",\n",
    "    \"product_category\",\n",
    "    \"product_subcategory\",\n",
    "    \"product_modelname\",\n",
    "    \"customer_country.1\",\n",
    "    \"customer_position\",\n",
    "    \"response_corporate\",\n",
    "    \"expected_timeline\",\n",
    "]\n",
    "\n",
    "df_all = pd.concat([df_train[label_columns], df_test[label_columns]])\n",
    "\n",
    "for col in label_columns:\n",
    "     df_all[col] = label_encoding(df_all[col])\n",
    "for col in label_columns:  \n",
    "    df_train[col] = df_all.iloc[: len(df_train)][col]\n",
    "    df_test[col] = df_all.iloc[len(df_train) :][col]\n",
    "#df_train.dropna(axis=1, inplace=True)\n",
    "#df_test.dropna(axis=1, inplace=True)# 레이블 인코딩할 칼럼들"
   ]
  },
  {
   "cell_type": "markdown",
   "id": "82ed26e9",
   "metadata": {},
   "source": [
    "#### 5회 미만 제거 및 범주형 데이터 빈도수에 맞추어 labeling"
   ]
  },
  {
   "cell_type": "code",
   "execution_count": 62,
   "id": "dbfd3cf3",
   "metadata": {
    "ExecuteTime": {
     "end_time": "2024-02-24T14:45:21.836010Z",
     "start_time": "2024-02-24T14:45:21.759377Z"
    }
   },
   "outputs": [],
   "source": []
  },
  {
   "cell_type": "markdown",
   "id": "3a477f93",
   "metadata": {},
   "source": [
    "다시 학습 데이터와 제출 데이터를 분리합니다."
   ]
  },
  {
   "cell_type": "code",
   "execution_count": 63,
   "id": "ff10c5fb",
   "metadata": {
    "ExecuteTime": {
     "end_time": "2024-02-24T14:45:21.839018Z",
     "start_time": "2024-02-24T14:45:21.766282Z"
    }
   },
   "outputs": [],
   "source": [
    "# for col in label_columns:  \n",
    "#     df_train[col] = df_all.iloc[: len(df_train)][col]\n",
    "#     df_test[col] = df_all.iloc[len(df_train) :][col]\n",
    "# #df_train.dropna(axis=1, inplace=True)\n",
    "# #df_test.dropna(axis=1, inplace=True)"
   ]
  },
  {
   "cell_type": "markdown",
   "id": "0ff54751",
   "metadata": {},
   "source": [
    "### VIF 다중공선성 해결"
   ]
  },
  {
   "cell_type": "code",
   "execution_count": 64,
   "id": "ae9a08f6",
   "metadata": {
    "ExecuteTime": {
     "end_time": "2024-02-24T14:45:31.534003Z",
     "start_time": "2024-02-24T14:45:21.779044Z"
    }
   },
   "outputs": [
    {
     "name": "stdout",
     "output_type": "stream",
     "text": [
      "Columns with VIF >= 5: ['id_strategic_ver', 'it_strategic_ver', 'idit_strategic_ver']\n"
     ]
    }
   ],
   "source": [
    "from sklearn.linear_model import LinearRegression as LR\n",
    "df_train.drop(['customer_country.1'],axis=1,inplace=True)\n",
    "df_test.drop(['customer_country.1'],axis=1,inplace=True)\n",
    "\n",
    "\n",
    "VIF_dict = dict()\n",
    "df_train.fillna(0,inplace=True) # 결측치 -1로 채워봄\n",
    "df_test.fillna(0,inplace=True)\n",
    "for col in df_train.columns:\n",
    "    model = LR().fit(df_train.drop([col], axis=1), df_train[col])\n",
    "    r2 = model.score(df_train.drop([col], axis=1), df_train[col])\n",
    "    VIF = 1 / max((1 - r2), 1e-9)\n",
    "    VIF_dict[col] = VIF\n",
    "\n",
    "# VIF 값이 5 이상인 열을 출력\n",
    "high_VIF_columns = [col for col, vif in VIF_dict.items() if vif >= 5]\n",
    "print(\"Columns with VIF >= 5:\", high_VIF_columns)\n"
   ]
  },
  {
   "cell_type": "code",
   "execution_count": 65,
   "id": "f4006a84",
   "metadata": {
    "scrolled": false,
    "ExecuteTime": {
     "end_time": "2024-02-24T14:45:32.505634Z",
     "start_time": "2024-02-24T14:45:31.527820Z"
    }
   },
   "outputs": [],
   "source": [
    "from xgboost import XGBClassifier\n",
    "import matplotlib.pyplot as plt\n",
    "import seaborn as sns\n",
    "# XGBoost 분류기를 훈련합니다.\n",
    "model = XGBClassifier()\n",
    "model.fit(df_train.drop('is_converted', axis=1), df_train['is_converted'])\n",
    "\n",
    "# Feature importance를 가져옵니다.\n",
    "importances = model.feature_importances_\n",
    "\n",
    "# Feature importance를 DataFrame으로 변환합니다.\n",
    "feature_importance_df = pd.DataFrame({\n",
    "    'Feature': df_train.drop('is_converted', axis=1).columns,\n",
    "    'Importance': importances\n",
    "})\n",
    "\n",
    "\n"
   ]
  },
  {
   "cell_type": "markdown",
   "id": "d332358a",
   "metadata": {},
   "source": [
    "### 2-2. 학습, 검증 데이터 분리"
   ]
  },
  {
   "cell_type": "markdown",
   "id": "b4df5c83",
   "metadata": {},
   "source": [
    "#### tomek links"
   ]
  },
  {
   "cell_type": "code",
   "execution_count": 66,
   "id": "0b7d5699",
   "metadata": {
    "ExecuteTime": {
     "end_time": "2024-02-24T14:45:32.520514Z",
     "start_time": "2024-02-24T14:45:32.502322Z"
    }
   },
   "outputs": [
    {
     "data": {
      "text/plain": "'\\n# 수치형 컬럼의 NaN 값을 평균으로 대체\\n# 수치형 컬럼을 식별합니다.\\nnumeric_columns = list(set(df_train.columns) - set(label_columns))\\n\\nfor col in numeric_columns:\\n    if df_train[col].isnull().any():\\n        df_train[col].fillna(df_train[col].mean(), inplace=True)\\ncategorical_features_indices=[]\\n# 범주형 컬럼의 NaN 값을 가장 빈번한 값으로 대체\\nfor col in label_columns:\\n    if df_train[col].isnull().any():\\n        df_train[col].fillna(df_train[col].mode()[0], inplace=True)\\n    categorical_features_indices=df_train.columns.get_loc(col)\\n    \\n'"
     },
     "execution_count": 66,
     "metadata": {},
     "output_type": "execute_result"
    }
   ],
   "source": [
    "'''\n",
    "# 수치형 컬럼의 NaN 값을 평균으로 대체\n",
    "# 수치형 컬럼을 식별합니다.\n",
    "numeric_columns = list(set(df_train.columns) - set(label_columns))\n",
    "\n",
    "for col in numeric_columns:\n",
    "    if df_train[col].isnull().any():\n",
    "        df_train[col].fillna(df_train[col].mean(), inplace=True)\n",
    "categorical_features_indices=[]\n",
    "# 범주형 컬럼의 NaN 값을 가장 빈번한 값으로 대체\n",
    "for col in label_columns:\n",
    "    if df_train[col].isnull().any():\n",
    "        df_train[col].fillna(df_train[col].mode()[0], inplace=True)\n",
    "    categorical_features_indices=df_train.columns.get_loc(col)\n",
    "    \n",
    "'''"
   ]
  },
  {
   "cell_type": "code",
   "execution_count": 67,
   "id": "7461cae5",
   "metadata": {
    "ExecuteTime": {
     "end_time": "2024-02-24T14:45:32.574723Z",
     "start_time": "2024-02-24T14:45:32.519619Z"
    }
   },
   "outputs": [
    {
     "name": "stdout",
     "output_type": "stream",
     "text": [
      "Train set:\n",
      "False    50245\n",
      "True      3687\n",
      "Name: is_converted, dtype: int64\n",
      "Validation set:\n",
      "True     933\n",
      "False    915\n",
      "Name: is_converted, dtype: int64\n"
     ]
    }
   ],
   "source": [
    "\n",
    "# TRUE와 FALSE 개수 세기\n",
    "true_count = df_train['is_converted'].sum()\n",
    "false_count = len(df_train) - true_count\n",
    "\n",
    "# 두 개수 중 작은 값으로 데이터를 분할\n",
    "min_count = min(true_count, false_count)\n",
    "\n",
    "# TRUE와 FALSE 개수를 맞추어 데이터를 분할\n",
    "true_data = df_train[df_train['is_converted'] == True].sample(n=min_count, random_state=400)\n",
    "false_data = df_train[df_train['is_converted'] == False].sample(n=min_count, random_state=400)\n",
    "\n",
    "# 데이터를 결합\n",
    "df_balanced = pd.concat([true_data, false_data])\n",
    "\n",
    "# val set을 먼저 구성\n",
    "val_size = int(len(df_balanced) * 0.2)  # 전체 데이터의 20%를 val set으로 사용\n",
    "val_set = df_balanced.sample(n=val_size, random_state=400)\n",
    "\n",
    "# val_set을 x_val과 y_val로 분리\n",
    "x_val = val_set.drop(\"is_converted\", axis=1)\n",
    "y_val = val_set[\"is_converted\"]\n",
    "\n",
    "# train set 구성 (비율을 맞추기 전의 데이터 사용)\n",
    "train_set = df_train.drop(val_set.index)\n",
    "\n",
    "# train set과 val set 구성 확인\n",
    "print(\"Train set:\")\n",
    "print(train_set['is_converted'].value_counts())\n",
    "print(\"Validation set:\")\n",
    "print(val_set['is_converted'].value_counts())\n"
   ]
  },
  {
   "cell_type": "code",
   "execution_count": 68,
   "id": "933f634a",
   "metadata": {
    "ExecuteTime": {
     "end_time": "2024-02-24T14:45:40.807148Z",
     "start_time": "2024-02-24T14:45:32.571917Z"
    }
   },
   "outputs": [
    {
     "name": "stdout",
     "output_type": "stream",
     "text": [
      "Train set after Tomek Links and balancing classes:\n",
      "False    3687\n",
      "True     3687\n",
      "Name: is_converted, dtype: int64\n"
     ]
    }
   ],
   "source": [
    "\n",
    "from imblearn.under_sampling import TomekLinks, RandomUnderSampler\n",
    "import pandas as pd\n",
    "\n",
    "\n",
    "# Tomek Link를 적용하여 데이터 보정\n",
    "tl = TomekLinks()\n",
    "x_train_resampled, y_train_resampled = tl.fit_resample(train_set.drop(\"is_converted\", axis=1), train_set[\"is_converted\"])\n",
    "\n",
    "# 클래스 비율 맞추기\n",
    "rus = RandomUnderSampler(sampling_strategy={0: int(y_train_resampled.sum() * 1), 1: y_train_resampled.sum()}, random_state=42)\n",
    "x_train, y_train = rus.fit_resample(x_train_resampled, y_train_resampled)\n",
    "\n",
    "# 결과 확인\n",
    "print(\"Train set after Tomek Links and balancing classes:\")\n",
    "print(pd.Series(y_train).value_counts())\n"
   ]
  },
  {
   "cell_type": "code",
   "execution_count": 69,
   "id": "27c9e205",
   "metadata": {
    "ExecuteTime": {
     "end_time": "2024-02-24T14:45:40.823172Z",
     "start_time": "2024-02-24T14:45:40.808859Z"
    }
   },
   "outputs": [],
   "source": [
    "# x_train, x_val, y_train, y_val = train_test_split(\n",
    "#     df_train.drop(\"is_converted\", axis=1),\n",
    "#     df_train[\"is_converted\"],\n",
    "#     test_size=0.2,\n",
    "#     shuffle=True,\n",
    "#     random_state=400,\n",
    "# )"
   ]
  },
  {
   "cell_type": "markdown",
   "id": "79ecfa9b",
   "metadata": {},
   "source": [
    "## 3. 모델 학습"
   ]
  },
  {
   "cell_type": "markdown",
   "id": "3caf257b",
   "metadata": {},
   "source": [
    "### 모델 정의 "
   ]
  },
  {
   "cell_type": "code",
   "execution_count": 70,
   "id": "e4509af0",
   "metadata": {
    "scrolled": true,
    "ExecuteTime": {
     "end_time": "2024-02-24T14:46:15.502705Z",
     "start_time": "2024-02-24T14:45:40.835810Z"
    }
   },
   "outputs": [
    {
     "name": "stdout",
     "output_type": "stream",
     "text": [
      "Fitting 5 folds for each of 48 candidates, totalling 240 fits\n"
     ]
    },
    {
     "data": {
      "text/plain": "XGBClassifier(base_score=None, booster=None, callbacks=None,\n              colsample_bylevel=None, colsample_bynode=None,\n              colsample_bytree=None, device=None, early_stopping_rounds=None,\n              enable_categorical=False, eval_metric=None, feature_types=None,\n              gamma=None, grow_policy=None, importance_type=None,\n              interaction_constraints=None, learning_rate=0.15, max_bin=None,\n              max_cat_threshold=None, max_cat_to_onehot=None,\n              max_delta_step=None, max_depth=6, max_leaves=None,\n              min_child_weight=None, missing=nan, monotone_constraints=None,\n              multi_strategy=None, n_estimators=200, n_jobs=None,\n              num_parallel_tree=None, random_state=None, ...)",
      "text/html": "<style>#sk-container-id-2 {color: black;background-color: white;}#sk-container-id-2 pre{padding: 0;}#sk-container-id-2 div.sk-toggleable {background-color: white;}#sk-container-id-2 label.sk-toggleable__label {cursor: pointer;display: block;width: 100%;margin-bottom: 0;padding: 0.3em;box-sizing: border-box;text-align: center;}#sk-container-id-2 label.sk-toggleable__label-arrow:before {content: \"▸\";float: left;margin-right: 0.25em;color: #696969;}#sk-container-id-2 label.sk-toggleable__label-arrow:hover:before {color: black;}#sk-container-id-2 div.sk-estimator:hover label.sk-toggleable__label-arrow:before {color: black;}#sk-container-id-2 div.sk-toggleable__content {max-height: 0;max-width: 0;overflow: hidden;text-align: left;background-color: #f0f8ff;}#sk-container-id-2 div.sk-toggleable__content pre {margin: 0.2em;color: black;border-radius: 0.25em;background-color: #f0f8ff;}#sk-container-id-2 input.sk-toggleable__control:checked~div.sk-toggleable__content {max-height: 200px;max-width: 100%;overflow: auto;}#sk-container-id-2 input.sk-toggleable__control:checked~label.sk-toggleable__label-arrow:before {content: \"▾\";}#sk-container-id-2 div.sk-estimator input.sk-toggleable__control:checked~label.sk-toggleable__label {background-color: #d4ebff;}#sk-container-id-2 div.sk-label input.sk-toggleable__control:checked~label.sk-toggleable__label {background-color: #d4ebff;}#sk-container-id-2 input.sk-hidden--visually {border: 0;clip: rect(1px 1px 1px 1px);clip: rect(1px, 1px, 1px, 1px);height: 1px;margin: -1px;overflow: hidden;padding: 0;position: absolute;width: 1px;}#sk-container-id-2 div.sk-estimator {font-family: monospace;background-color: #f0f8ff;border: 1px dotted black;border-radius: 0.25em;box-sizing: border-box;margin-bottom: 0.5em;}#sk-container-id-2 div.sk-estimator:hover {background-color: #d4ebff;}#sk-container-id-2 div.sk-parallel-item::after {content: \"\";width: 100%;border-bottom: 1px solid gray;flex-grow: 1;}#sk-container-id-2 div.sk-label:hover label.sk-toggleable__label {background-color: #d4ebff;}#sk-container-id-2 div.sk-serial::before {content: \"\";position: absolute;border-left: 1px solid gray;box-sizing: border-box;top: 0;bottom: 0;left: 50%;z-index: 0;}#sk-container-id-2 div.sk-serial {display: flex;flex-direction: column;align-items: center;background-color: white;padding-right: 0.2em;padding-left: 0.2em;position: relative;}#sk-container-id-2 div.sk-item {position: relative;z-index: 1;}#sk-container-id-2 div.sk-parallel {display: flex;align-items: stretch;justify-content: center;background-color: white;position: relative;}#sk-container-id-2 div.sk-item::before, #sk-container-id-2 div.sk-parallel-item::before {content: \"\";position: absolute;border-left: 1px solid gray;box-sizing: border-box;top: 0;bottom: 0;left: 50%;z-index: -1;}#sk-container-id-2 div.sk-parallel-item {display: flex;flex-direction: column;z-index: 1;position: relative;background-color: white;}#sk-container-id-2 div.sk-parallel-item:first-child::after {align-self: flex-end;width: 50%;}#sk-container-id-2 div.sk-parallel-item:last-child::after {align-self: flex-start;width: 50%;}#sk-container-id-2 div.sk-parallel-item:only-child::after {width: 0;}#sk-container-id-2 div.sk-dashed-wrapped {border: 1px dashed gray;margin: 0 0.4em 0.5em 0.4em;box-sizing: border-box;padding-bottom: 0.4em;background-color: white;}#sk-container-id-2 div.sk-label label {font-family: monospace;font-weight: bold;display: inline-block;line-height: 1.2em;}#sk-container-id-2 div.sk-label-container {text-align: center;}#sk-container-id-2 div.sk-container {/* jupyter's `normalize.less` sets `[hidden] { display: none; }` but bootstrap.min.css set `[hidden] { display: none !important; }` so we also need the `!important` here to be able to override the default hidden behavior on the sphinx rendered scikit-learn.org. See: https://github.com/scikit-learn/scikit-learn/issues/21755 */display: inline-block !important;position: relative;}#sk-container-id-2 div.sk-text-repr-fallback {display: none;}</style><div id=\"sk-container-id-2\" class=\"sk-top-container\"><div class=\"sk-text-repr-fallback\"><pre>XGBClassifier(base_score=None, booster=None, callbacks=None,\n              colsample_bylevel=None, colsample_bynode=None,\n              colsample_bytree=None, device=None, early_stopping_rounds=None,\n              enable_categorical=False, eval_metric=None, feature_types=None,\n              gamma=None, grow_policy=None, importance_type=None,\n              interaction_constraints=None, learning_rate=0.15, max_bin=None,\n              max_cat_threshold=None, max_cat_to_onehot=None,\n              max_delta_step=None, max_depth=6, max_leaves=None,\n              min_child_weight=None, missing=nan, monotone_constraints=None,\n              multi_strategy=None, n_estimators=200, n_jobs=None,\n              num_parallel_tree=None, random_state=None, ...)</pre><b>In a Jupyter environment, please rerun this cell to show the HTML representation or trust the notebook. <br />On GitHub, the HTML representation is unable to render, please try loading this page with nbviewer.org.</b></div><div class=\"sk-container\" hidden><div class=\"sk-item\"><div class=\"sk-estimator sk-toggleable\"><input class=\"sk-toggleable__control sk-hidden--visually\" id=\"sk-estimator-id-2\" type=\"checkbox\" checked><label for=\"sk-estimator-id-2\" class=\"sk-toggleable__label sk-toggleable__label-arrow\">XGBClassifier</label><div class=\"sk-toggleable__content\"><pre>XGBClassifier(base_score=None, booster=None, callbacks=None,\n              colsample_bylevel=None, colsample_bynode=None,\n              colsample_bytree=None, device=None, early_stopping_rounds=None,\n              enable_categorical=False, eval_metric=None, feature_types=None,\n              gamma=None, grow_policy=None, importance_type=None,\n              interaction_constraints=None, learning_rate=0.15, max_bin=None,\n              max_cat_threshold=None, max_cat_to_onehot=None,\n              max_delta_step=None, max_depth=6, max_leaves=None,\n              min_child_weight=None, missing=nan, monotone_constraints=None,\n              multi_strategy=None, n_estimators=200, n_jobs=None,\n              num_parallel_tree=None, random_state=None, ...)</pre></div></div></div></div></div>"
     },
     "execution_count": 70,
     "metadata": {},
     "output_type": "execute_result"
    }
   ],
   "source": [
    "\n",
    "#!pip install shap\n",
    "#model = DecisionTreeClassifier()\n",
    "#model = DecisionTreeClassifier(max_depth=12, min_samples_split=3, min_samples_leaf=5)\n",
    "#model = RandomForestClassifier(n_estimators=100, max_depth=10, min_samples_split=5, min_samples_leaf=2)\n",
    "true_count = sum(df_train['is_converted'] == True)\n",
    "false_count = sum(df_train['is_converted'] == False)\n",
    "scale_pos_weight = false_count / true_count\n",
    "#scale_pos_weight=scale_pos_weight*0.5\n",
    "# XGBoost 모델 초기화\n",
    "model = XGBClassifier()\n",
    "\n",
    "\n",
    "model_param_grid = {\n",
    "    'n_estimators': [100, 150,200],\n",
    "    'learning_rate': [0.1, 0.15, 0.2, 0.3],\n",
    "    'max_depth': [6, 8, 10, 12]\n",
    "}\n",
    "\n",
    "model_grid=GridSearchCV(model, param_grid = model_param_grid, scoring=\"accuracy\", n_jobs=-1, verbose = 1)\n",
    "model_grid.fit(x_train, y_train)\n",
    "model = model_grid.best_estimator_\n",
    "model.fit(x_train, y_train) \n",
    "\n",
    "# import shap\n",
    "\n",
    "\n",
    "# # SHAP 값을 계산하기 위한 Explainer 생성\n",
    "# explainer = shap.Explainer(model, x_train)\n",
    "# x_test = df_test.drop([\"is_converted\", \"id\"], axis=1)\n",
    "# # 테스트 세트에 대한 SHAP 값 계산\n",
    "# shap_values = explainer(x_test)\n",
    "\n",
    "# # SHAP 요약 플롯\n",
    "# shap.summary_plot(shap_values, x_test)\n",
    "\n",
    "# # 특정 인스턴스에 대한 SHAP 값 시각화 (예: 테스트 세트의 첫 번째 인스턴스)\n",
    "# shap.waterfall_plot(explainer.expected_value, shap_values[0].values, feature_names=x_test.columns.tolist())\n"
   ]
  },
  {
   "cell_type": "markdown",
   "id": "cacd5ed8",
   "metadata": {},
   "source": [
    "### 모델 학습"
   ]
  },
  {
   "cell_type": "code",
   "execution_count": 71,
   "id": "766d1980",
   "metadata": {
    "ExecuteTime": {
     "end_time": "2024-02-24T14:46:15.889491Z",
     "start_time": "2024-02-24T14:46:15.498684Z"
    }
   },
   "outputs": [
    {
     "data": {
      "text/plain": "XGBClassifier(base_score=None, booster=None, callbacks=None,\n              colsample_bylevel=None, colsample_bynode=None,\n              colsample_bytree=None, device=None, early_stopping_rounds=None,\n              enable_categorical=False, eval_metric=None, feature_types=None,\n              gamma=None, grow_policy=None, importance_type=None,\n              interaction_constraints=None, learning_rate=0.15, max_bin=None,\n              max_cat_threshold=None, max_cat_to_onehot=None,\n              max_delta_step=None, max_depth=6, max_leaves=None,\n              min_child_weight=None, missing=nan, monotone_constraints=None,\n              multi_strategy=None, n_estimators=200, n_jobs=None,\n              num_parallel_tree=None, random_state=None, ...)",
      "text/html": "<style>#sk-container-id-3 {color: black;background-color: white;}#sk-container-id-3 pre{padding: 0;}#sk-container-id-3 div.sk-toggleable {background-color: white;}#sk-container-id-3 label.sk-toggleable__label {cursor: pointer;display: block;width: 100%;margin-bottom: 0;padding: 0.3em;box-sizing: border-box;text-align: center;}#sk-container-id-3 label.sk-toggleable__label-arrow:before {content: \"▸\";float: left;margin-right: 0.25em;color: #696969;}#sk-container-id-3 label.sk-toggleable__label-arrow:hover:before {color: black;}#sk-container-id-3 div.sk-estimator:hover label.sk-toggleable__label-arrow:before {color: black;}#sk-container-id-3 div.sk-toggleable__content {max-height: 0;max-width: 0;overflow: hidden;text-align: left;background-color: #f0f8ff;}#sk-container-id-3 div.sk-toggleable__content pre {margin: 0.2em;color: black;border-radius: 0.25em;background-color: #f0f8ff;}#sk-container-id-3 input.sk-toggleable__control:checked~div.sk-toggleable__content {max-height: 200px;max-width: 100%;overflow: auto;}#sk-container-id-3 input.sk-toggleable__control:checked~label.sk-toggleable__label-arrow:before {content: \"▾\";}#sk-container-id-3 div.sk-estimator input.sk-toggleable__control:checked~label.sk-toggleable__label {background-color: #d4ebff;}#sk-container-id-3 div.sk-label input.sk-toggleable__control:checked~label.sk-toggleable__label {background-color: #d4ebff;}#sk-container-id-3 input.sk-hidden--visually {border: 0;clip: rect(1px 1px 1px 1px);clip: rect(1px, 1px, 1px, 1px);height: 1px;margin: -1px;overflow: hidden;padding: 0;position: absolute;width: 1px;}#sk-container-id-3 div.sk-estimator {font-family: monospace;background-color: #f0f8ff;border: 1px dotted black;border-radius: 0.25em;box-sizing: border-box;margin-bottom: 0.5em;}#sk-container-id-3 div.sk-estimator:hover {background-color: #d4ebff;}#sk-container-id-3 div.sk-parallel-item::after {content: \"\";width: 100%;border-bottom: 1px solid gray;flex-grow: 1;}#sk-container-id-3 div.sk-label:hover label.sk-toggleable__label {background-color: #d4ebff;}#sk-container-id-3 div.sk-serial::before {content: \"\";position: absolute;border-left: 1px solid gray;box-sizing: border-box;top: 0;bottom: 0;left: 50%;z-index: 0;}#sk-container-id-3 div.sk-serial {display: flex;flex-direction: column;align-items: center;background-color: white;padding-right: 0.2em;padding-left: 0.2em;position: relative;}#sk-container-id-3 div.sk-item {position: relative;z-index: 1;}#sk-container-id-3 div.sk-parallel {display: flex;align-items: stretch;justify-content: center;background-color: white;position: relative;}#sk-container-id-3 div.sk-item::before, #sk-container-id-3 div.sk-parallel-item::before {content: \"\";position: absolute;border-left: 1px solid gray;box-sizing: border-box;top: 0;bottom: 0;left: 50%;z-index: -1;}#sk-container-id-3 div.sk-parallel-item {display: flex;flex-direction: column;z-index: 1;position: relative;background-color: white;}#sk-container-id-3 div.sk-parallel-item:first-child::after {align-self: flex-end;width: 50%;}#sk-container-id-3 div.sk-parallel-item:last-child::after {align-self: flex-start;width: 50%;}#sk-container-id-3 div.sk-parallel-item:only-child::after {width: 0;}#sk-container-id-3 div.sk-dashed-wrapped {border: 1px dashed gray;margin: 0 0.4em 0.5em 0.4em;box-sizing: border-box;padding-bottom: 0.4em;background-color: white;}#sk-container-id-3 div.sk-label label {font-family: monospace;font-weight: bold;display: inline-block;line-height: 1.2em;}#sk-container-id-3 div.sk-label-container {text-align: center;}#sk-container-id-3 div.sk-container {/* jupyter's `normalize.less` sets `[hidden] { display: none; }` but bootstrap.min.css set `[hidden] { display: none !important; }` so we also need the `!important` here to be able to override the default hidden behavior on the sphinx rendered scikit-learn.org. See: https://github.com/scikit-learn/scikit-learn/issues/21755 */display: inline-block !important;position: relative;}#sk-container-id-3 div.sk-text-repr-fallback {display: none;}</style><div id=\"sk-container-id-3\" class=\"sk-top-container\"><div class=\"sk-text-repr-fallback\"><pre>XGBClassifier(base_score=None, booster=None, callbacks=None,\n              colsample_bylevel=None, colsample_bynode=None,\n              colsample_bytree=None, device=None, early_stopping_rounds=None,\n              enable_categorical=False, eval_metric=None, feature_types=None,\n              gamma=None, grow_policy=None, importance_type=None,\n              interaction_constraints=None, learning_rate=0.15, max_bin=None,\n              max_cat_threshold=None, max_cat_to_onehot=None,\n              max_delta_step=None, max_depth=6, max_leaves=None,\n              min_child_weight=None, missing=nan, monotone_constraints=None,\n              multi_strategy=None, n_estimators=200, n_jobs=None,\n              num_parallel_tree=None, random_state=None, ...)</pre><b>In a Jupyter environment, please rerun this cell to show the HTML representation or trust the notebook. <br />On GitHub, the HTML representation is unable to render, please try loading this page with nbviewer.org.</b></div><div class=\"sk-container\" hidden><div class=\"sk-item\"><div class=\"sk-estimator sk-toggleable\"><input class=\"sk-toggleable__control sk-hidden--visually\" id=\"sk-estimator-id-3\" type=\"checkbox\" checked><label for=\"sk-estimator-id-3\" class=\"sk-toggleable__label sk-toggleable__label-arrow\">XGBClassifier</label><div class=\"sk-toggleable__content\"><pre>XGBClassifier(base_score=None, booster=None, callbacks=None,\n              colsample_bylevel=None, colsample_bynode=None,\n              colsample_bytree=None, device=None, early_stopping_rounds=None,\n              enable_categorical=False, eval_metric=None, feature_types=None,\n              gamma=None, grow_policy=None, importance_type=None,\n              interaction_constraints=None, learning_rate=0.15, max_bin=None,\n              max_cat_threshold=None, max_cat_to_onehot=None,\n              max_delta_step=None, max_depth=6, max_leaves=None,\n              min_child_weight=None, missing=nan, monotone_constraints=None,\n              multi_strategy=None, n_estimators=200, n_jobs=None,\n              num_parallel_tree=None, random_state=None, ...)</pre></div></div></div></div></div>"
     },
     "execution_count": 71,
     "metadata": {},
     "output_type": "execute_result"
    }
   ],
   "source": [
    "model.fit(x_train.fillna(0), y_train) # -1 로 바꿔뒀음"
   ]
  },
  {
   "cell_type": "markdown",
   "id": "6bf2de5f",
   "metadata": {},
   "source": [
    "### 모델 성능 보기"
   ]
  },
  {
   "cell_type": "code",
   "execution_count": 72,
   "id": "c8871444",
   "metadata": {
    "ExecuteTime": {
     "end_time": "2024-02-24T14:46:15.903798Z",
     "start_time": "2024-02-24T14:46:15.894692Z"
    }
   },
   "outputs": [],
   "source": [
    "def get_clf_eval(y_test, y_pred=None):\n",
    "    confusion = confusion_matrix(y_test, pred)\n",
    "    TP = confusion[1][1]\n",
    "    FP = confusion[0][1]\n",
    "    TN = confusion[0][0]\n",
    "    FN = confusion[1][0]\n",
    "    print(f\"True Positive(TP): {TP}, False Positive(FP): {FP}, True Negative(TN): {TN}, False Negative(FN): {FN}\")\n",
    "    accuracy = accuracy_score(y_test, y_pred)\n",
    "    precision = precision_score(y_test, y_pred, labels=[True, False])\n",
    "    recall = recall_score(y_test, y_pred)\n",
    "    F1 = f1_score(y_test, y_pred, labels=[True, False])\n",
    "\n",
    "    print(\"오차행렬:\\n\", confusion)\n",
    "    print(\"\\n정확도: {:.4f}\".format(accuracy))\n",
    "    print(\"정밀도: {:.4f}\".format(precision))\n",
    "    print(\"재현율: {:.4f}\".format(recall))\n",
    "    print(\"F1: {:.4f}\".format(F1))"
   ]
  },
  {
   "cell_type": "code",
   "execution_count": 73,
   "id": "56a86373",
   "metadata": {
    "scrolled": true,
    "ExecuteTime": {
     "end_time": "2024-02-24T14:46:15.996963Z",
     "start_time": "2024-02-24T14:46:15.901417Z"
    }
   },
   "outputs": [
    {
     "name": "stdout",
     "output_type": "stream",
     "text": [
      "True Positive(TP): 874, False Positive(FP): 68, True Negative(TN): 847, False Negative(FN): 59\n",
      "오차행렬:\n",
      " [[847  68]\n",
      " [ 59 874]]\n",
      "\n",
      "정확도: 0.9313\n",
      "정밀도: 0.9278\n",
      "재현율: 0.9368\n",
      "F1: 0.9323\n",
      "<class 'xgboost.sklearn.XGBClassifier'>\n"
     ]
    }
   ],
   "source": [
    "#pred = model.predict(x_val_selected_features.fillna(0))\n",
    "pred = model.predict(x_val.fillna(0))\n",
    "get_clf_eval(y_val, pred)\n",
    "print(type(model))\n",
    "#print(\"트리의 최대 깊이:\", model.tree_.max_depth)\n"
   ]
  },
  {
   "cell_type": "markdown",
   "id": "7adf8300",
   "metadata": {},
   "source": [
    "## 4. 제출하기"
   ]
  },
  {
   "cell_type": "markdown",
   "id": "9d0b6e17",
   "metadata": {},
   "source": [
    "### 테스트 데이터 예측"
   ]
  },
  {
   "cell_type": "code",
   "execution_count": 74,
   "id": "43daa73c",
   "metadata": {
    "ExecuteTime": {
     "end_time": "2024-02-24T14:46:15.998911Z",
     "start_time": "2024-02-24T14:46:15.941941Z"
    }
   },
   "outputs": [],
   "source": [
    "# 예측에 필요한 데이터 분리\n",
    "x_test = df_test.drop([\"is_converted\", \"id\"], axis=1)"
   ]
  },
  {
   "cell_type": "code",
   "execution_count": 75,
   "id": "d13f7a6e",
   "metadata": {
    "ExecuteTime": {
     "end_time": "2024-02-24T14:46:16.175894Z",
     "start_time": "2024-02-24T14:46:15.948238Z"
    }
   },
   "outputs": [
    {
     "data": {
      "text/plain": "1980"
     },
     "execution_count": 75,
     "metadata": {},
     "output_type": "execute_result"
    }
   ],
   "source": [
    "test_pred = model.predict(x_test.fillna(0))\n",
    "sum(test_pred) # True로 예측된 개수"
   ]
  },
  {
   "cell_type": "markdown",
   "id": "47f18e6a",
   "metadata": {},
   "source": [
    "### 제출 파일 작성"
   ]
  },
  {
   "cell_type": "code",
   "execution_count": 76,
   "id": "3128a458",
   "metadata": {
    "ExecuteTime": {
     "end_time": "2024-02-24T14:46:16.256589Z",
     "start_time": "2024-02-24T14:46:15.977219Z"
    }
   },
   "outputs": [],
   "source": [
    "# 제출 데이터 읽어오기 (df_test는 전처리된 데이터가 저장됨)\n",
    "df_sub = pd.read_csv(\"submission.csv\")\n",
    "df_sub[\"is_converted\"] = test_pred\n",
    "\n",
    "# 제출 파일 저장\n",
    "df_sub.to_csv(\"submission.csv\", index=False)\n",
    "\n",
    "#in vscode gitignore issue"
   ]
  },
  {
   "cell_type": "code",
   "execution_count": 76,
   "id": "68aded69",
   "metadata": {
    "ExecuteTime": {
     "end_time": "2024-02-24T14:46:16.258159Z",
     "start_time": "2024-02-24T14:46:16.166334Z"
    }
   },
   "outputs": [],
   "source": []
  },
  {
   "cell_type": "markdown",
   "id": "ec7867ce",
   "metadata": {},
   "source": [
    "**우측 상단의 제출 버튼을 클릭해 결과를 확인하세요**"
   ]
  }
 ],
 "metadata": {
  "kernelspec": {
   "display_name": "Python 3 (ipykernel)",
   "language": "python",
   "name": "python3"
  },
  "language_info": {
   "codemirror_mode": {
    "name": "ipython",
    "version": 3
   },
   "file_extension": ".py",
   "mimetype": "text/x-python",
   "name": "python",
   "nbconvert_exporter": "python",
   "pygments_lexer": "ipython3",
   "version": "3.10.13"
  }
 },
 "nbformat": 4,
 "nbformat_minor": 5
}
